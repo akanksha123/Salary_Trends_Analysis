{
 "cells": [
  {
   "cell_type": "code",
   "execution_count": 1,
   "metadata": {
    "collapsed": true
   },
   "outputs": [],
   "source": [
    "import pandas as pd\n",
    "import numpy as np"
   ]
  },
  {
   "cell_type": "code",
   "execution_count": 2,
   "metadata": {
    "collapsed": true
   },
   "outputs": [],
   "source": [
    "df = pd.read_csv('E:\\\\Desktop\\\\DS\\\\DS\\\\project\\\\final\\\\Baltimore_City_Employee_Salaries_FY2014.csv')"
   ]
  },
  {
   "cell_type": "code",
   "execution_count": 3,
   "metadata": {
    "collapsed": true
   },
   "outputs": [],
   "source": [
    "df = df.dropna()"
   ]
  },
  {
   "cell_type": "code",
   "execution_count": 4,
   "metadata": {
    "collapsed": false
   },
   "outputs": [
    {
     "data": {
      "text/plain": [
       "Index([' Name', 'JobTitle', 'AgencyID', 'Agency', 'HireDate', 'AnnualSalary',\n",
       "       'GrossPay'],\n",
       "      dtype='object')"
      ]
     },
     "execution_count": 4,
     "metadata": {},
     "output_type": "execute_result"
    }
   ],
   "source": [
    "df.columns"
   ]
  },
  {
   "cell_type": "code",
   "execution_count": 5,
   "metadata": {
    "collapsed": true
   },
   "outputs": [],
   "source": [
    "df['HireDate'] = pd.to_datetime(df['HireDate'])"
   ]
  },
  {
   "cell_type": "code",
   "execution_count": 6,
   "metadata": {
    "collapsed": false
   },
   "outputs": [
    {
     "data": {
      "text/plain": [
       " Name                   object\n",
       "JobTitle                object\n",
       "AgencyID                object\n",
       "Agency                  object\n",
       "HireDate        datetime64[ns]\n",
       "AnnualSalary            object\n",
       "GrossPay                object\n",
       "dtype: object"
      ]
     },
     "execution_count": 6,
     "metadata": {},
     "output_type": "execute_result"
    }
   ],
   "source": [
    "df.dtypes"
   ]
  },
  {
   "cell_type": "code",
   "execution_count": 7,
   "metadata": {
    "collapsed": true
   },
   "outputs": [],
   "source": [
    "df['HireDate'] = df['HireDate'].dt.year"
   ]
  },
  {
   "cell_type": "code",
   "execution_count": 9,
   "metadata": {
    "collapsed": false
   },
   "outputs": [
    {
     "data": {
      "text/plain": [
       "[1952,\n",
       " 1961,\n",
       " 1962,\n",
       " 1963,\n",
       " 1965,\n",
       " 1966,\n",
       " 1967,\n",
       " 1968,\n",
       " 1969,\n",
       " 1970,\n",
       " 1971,\n",
       " 1972,\n",
       " 1973,\n",
       " 1974,\n",
       " 1975,\n",
       " 1976,\n",
       " 1977,\n",
       " 1978,\n",
       " 1979,\n",
       " 1980,\n",
       " 1981,\n",
       " 1982,\n",
       " 1983,\n",
       " 1984,\n",
       " 1985,\n",
       " 1986,\n",
       " 1987,\n",
       " 1988,\n",
       " 1989,\n",
       " 1990,\n",
       " 1991,\n",
       " 1992,\n",
       " 1993,\n",
       " 1994,\n",
       " 1995,\n",
       " 1996,\n",
       " 1997,\n",
       " 1998,\n",
       " 1999,\n",
       " 2000,\n",
       " 2001,\n",
       " 2002,\n",
       " 2003,\n",
       " 2004,\n",
       " 2005,\n",
       " 2006,\n",
       " 2007,\n",
       " 2008,\n",
       " 2009,\n",
       " 2010,\n",
       " 2011,\n",
       " 2012,\n",
       " 2013,\n",
       " 2014]"
      ]
     },
     "execution_count": 9,
     "metadata": {},
     "output_type": "execute_result"
    }
   ],
   "source": [
    "sorted(df['HireDate'].unique())"
   ]
  },
  {
   "cell_type": "code",
   "execution_count": 10,
   "metadata": {
    "collapsed": true
   },
   "outputs": [],
   "source": [
    "df['Experience'] = df['HireDate'].sub(2014, axis=0)\n",
    "df['Experience'] = df['Experience'].abs()"
   ]
  },
  {
   "cell_type": "code",
   "execution_count": 11,
   "metadata": {
    "collapsed": true
   },
   "outputs": [],
   "source": [
    "df = df[(df.Experience >= 0) & (df.Experience <= 40)]"
   ]
  },
  {
   "cell_type": "code",
   "execution_count": 12,
   "metadata": {
    "collapsed": true
   },
   "outputs": [],
   "source": [
    "df = df[(df.HireDate >= 1972) & (df.Experience <= 2014)]"
   ]
  },
  {
   "cell_type": "code",
   "execution_count": 13,
   "metadata": {
    "collapsed": false
   },
   "outputs": [
    {
     "data": {
      "text/html": [
       "<div>\n",
       "<table border=\"1\" class=\"dataframe\">\n",
       "  <thead>\n",
       "    <tr style=\"text-align: right;\">\n",
       "      <th></th>\n",
       "      <th>Name</th>\n",
       "      <th>JobTitle</th>\n",
       "      <th>AgencyID</th>\n",
       "      <th>Agency</th>\n",
       "      <th>HireDate</th>\n",
       "      <th>AnnualSalary</th>\n",
       "      <th>GrossPay</th>\n",
       "      <th>Experience</th>\n",
       "    </tr>\n",
       "  </thead>\n",
       "  <tbody>\n",
       "    <tr>\n",
       "      <th>0</th>\n",
       "      <td>Aaron,Keontae E</td>\n",
       "      <td>AIDE BLUE CHIP</td>\n",
       "      <td>W02200</td>\n",
       "      <td>Youth Summer</td>\n",
       "      <td>2013</td>\n",
       "      <td>$11310.00</td>\n",
       "      <td>$873.63</td>\n",
       "      <td>1</td>\n",
       "    </tr>\n",
       "    <tr>\n",
       "      <th>1</th>\n",
       "      <td>Aaron,Patricia G</td>\n",
       "      <td>Facilities/Office Services II</td>\n",
       "      <td>A03031</td>\n",
       "      <td>OED-Employment Dev</td>\n",
       "      <td>1979</td>\n",
       "      <td>$53428.00</td>\n",
       "      <td>$52868.38</td>\n",
       "      <td>35</td>\n",
       "    </tr>\n",
       "    <tr>\n",
       "      <th>2</th>\n",
       "      <td>Aaron,Petra L</td>\n",
       "      <td>ASSISTANT STATE'S ATTORNEY</td>\n",
       "      <td>A29005</td>\n",
       "      <td>States Attorneys Office</td>\n",
       "      <td>2006</td>\n",
       "      <td>$68300.00</td>\n",
       "      <td>$67439.19</td>\n",
       "      <td>8</td>\n",
       "    </tr>\n",
       "    <tr>\n",
       "      <th>3</th>\n",
       "      <td>Abaineh,Yohannes T</td>\n",
       "      <td>EPIDEMIOLOGIST</td>\n",
       "      <td>A65026</td>\n",
       "      <td>HLTH-Health Department</td>\n",
       "      <td>2009</td>\n",
       "      <td>$62000.00</td>\n",
       "      <td>$58654.74</td>\n",
       "      <td>5</td>\n",
       "    </tr>\n",
       "    <tr>\n",
       "      <th>4</th>\n",
       "      <td>Abbene,Anthony M</td>\n",
       "      <td>POLICE OFFICER TRAINEE</td>\n",
       "      <td>A99416</td>\n",
       "      <td>Police Department</td>\n",
       "      <td>2013</td>\n",
       "      <td>$43999.00</td>\n",
       "      <td>$39686.95</td>\n",
       "      <td>1</td>\n",
       "    </tr>\n",
       "    <tr>\n",
       "      <th>5</th>\n",
       "      <td>Abbey,Emmanuel</td>\n",
       "      <td>CONTRACT SERV SPEC II</td>\n",
       "      <td>A40001</td>\n",
       "      <td>M-R Info Technology</td>\n",
       "      <td>2013</td>\n",
       "      <td>$52000.00</td>\n",
       "      <td>$47019.75</td>\n",
       "      <td>1</td>\n",
       "    </tr>\n",
       "    <tr>\n",
       "      <th>6</th>\n",
       "      <td>Abdal-Rahim,Naim A</td>\n",
       "      <td>EMT Firefighter Suppression</td>\n",
       "      <td>A64120</td>\n",
       "      <td>Fire Department</td>\n",
       "      <td>2011</td>\n",
       "      <td>$62175.00</td>\n",
       "      <td>$61451.50</td>\n",
       "      <td>3</td>\n",
       "    </tr>\n",
       "    <tr>\n",
       "      <th>7</th>\n",
       "      <td>Abdi,Ezekiel W</td>\n",
       "      <td>POLICE SERGEANT</td>\n",
       "      <td>A99127</td>\n",
       "      <td>Police Department</td>\n",
       "      <td>2007</td>\n",
       "      <td>$70918.00</td>\n",
       "      <td>$87900.27</td>\n",
       "      <td>7</td>\n",
       "    </tr>\n",
       "    <tr>\n",
       "      <th>8</th>\n",
       "      <td>Abdul Adl,Attrice A</td>\n",
       "      <td>RADIO DISPATCHER SHERIFF</td>\n",
       "      <td>A38410</td>\n",
       "      <td>Sheriff's Office</td>\n",
       "      <td>1999</td>\n",
       "      <td>$42438.00</td>\n",
       "      <td>$53667.53</td>\n",
       "      <td>15</td>\n",
       "    </tr>\n",
       "    <tr>\n",
       "      <th>12</th>\n",
       "      <td>Abdul Hamid,Umar</td>\n",
       "      <td>SECRETARY II</td>\n",
       "      <td>A06009</td>\n",
       "      <td>Housing &amp; Community Dev</td>\n",
       "      <td>1995</td>\n",
       "      <td>$34692.00</td>\n",
       "      <td>$12947.24</td>\n",
       "      <td>19</td>\n",
       "    </tr>\n",
       "  </tbody>\n",
       "</table>\n",
       "</div>"
      ],
      "text/plain": [
       "                   Name                       JobTitle AgencyID  \\\n",
       "0       Aaron,Keontae E                 AIDE BLUE CHIP   W02200   \n",
       "1      Aaron,Patricia G  Facilities/Office Services II   A03031   \n",
       "2         Aaron,Petra L     ASSISTANT STATE'S ATTORNEY   A29005   \n",
       "3    Abaineh,Yohannes T                 EPIDEMIOLOGIST   A65026   \n",
       "4      Abbene,Anthony M         POLICE OFFICER TRAINEE   A99416   \n",
       "5        Abbey,Emmanuel          CONTRACT SERV SPEC II   A40001   \n",
       "6    Abdal-Rahim,Naim A    EMT Firefighter Suppression   A64120   \n",
       "7        Abdi,Ezekiel W                POLICE SERGEANT   A99127   \n",
       "8   Abdul Adl,Attrice A       RADIO DISPATCHER SHERIFF   A38410   \n",
       "12     Abdul Hamid,Umar                   SECRETARY II   A06009   \n",
       "\n",
       "                      Agency  HireDate AnnualSalary   GrossPay  Experience  \n",
       "0             Youth Summer        2013    $11310.00    $873.63           1  \n",
       "1        OED-Employment Dev       1979    $53428.00  $52868.38          35  \n",
       "2   States Attorneys Office       2006    $68300.00  $67439.19           8  \n",
       "3    HLTH-Health Department       2009    $62000.00  $58654.74           5  \n",
       "4         Police Department       2013    $43999.00  $39686.95           1  \n",
       "5       M-R Info Technology       2013    $52000.00  $47019.75           1  \n",
       "6           Fire Department       2011    $62175.00  $61451.50           3  \n",
       "7         Police Department       2007    $70918.00  $87900.27           7  \n",
       "8          Sheriff's Office       1999    $42438.00  $53667.53          15  \n",
       "12  Housing & Community Dev       1995    $34692.00  $12947.24          19  "
      ]
     },
     "execution_count": 13,
     "metadata": {},
     "output_type": "execute_result"
    }
   ],
   "source": [
    "df.head(10)"
   ]
  },
  {
   "cell_type": "code",
   "execution_count": 26,
   "metadata": {
    "collapsed": false
   },
   "outputs": [],
   "source": [
    "df.rename(columns={' Name' :'Name'},inplace=True)"
   ]
  },
  {
   "cell_type": "code",
   "execution_count": 27,
   "metadata": {
    "collapsed": true
   },
   "outputs": [],
   "source": [
    "df4 = df.copy()"
   ]
  },
  {
   "cell_type": "code",
   "execution_count": 28,
   "metadata": {
    "collapsed": false
   },
   "outputs": [
    {
     "data": {
      "text/plain": [
       "Index(['Name', 'JobTitle', 'AgencyID', 'Agency', 'HireDate', 'AnnualSalary',\n",
       "       'GrossPay', 'Experience'],\n",
       "      dtype='object')"
      ]
     },
     "execution_count": 28,
     "metadata": {},
     "output_type": "execute_result"
    }
   ],
   "source": [
    "df4.columns"
   ]
  },
  {
   "cell_type": "code",
   "execution_count": 30,
   "metadata": {
    "collapsed": false
   },
   "outputs": [],
   "source": [
    "df4 = df4.drop(['Name', 'AgencyID', 'GrossPay'], axis=1)"
   ]
  },
  {
   "cell_type": "code",
   "execution_count": 31,
   "metadata": {
    "collapsed": false
   },
   "outputs": [
    {
     "data": {
      "text/plain": [
       "Index(['JobTitle', 'Agency', 'HireDate', 'AnnualSalary', 'Experience'], dtype='object')"
      ]
     },
     "execution_count": 31,
     "metadata": {},
     "output_type": "execute_result"
    }
   ],
   "source": [
    "df4.columns"
   ]
  },
  {
   "cell_type": "code",
   "execution_count": null,
   "metadata": {
    "collapsed": true
   },
   "outputs": [],
   "source": []
  }
 ],
 "metadata": {
  "kernelspec": {
   "display_name": "Python [Root]",
   "language": "python",
   "name": "Python [Root]"
  },
  "language_info": {
   "codemirror_mode": {
    "name": "ipython",
    "version": 3
   },
   "file_extension": ".py",
   "mimetype": "text/x-python",
   "name": "python",
   "nbconvert_exporter": "python",
   "pygments_lexer": "ipython3",
   "version": "3.5.2"
  }
 },
 "nbformat": 4,
 "nbformat_minor": 0
}
