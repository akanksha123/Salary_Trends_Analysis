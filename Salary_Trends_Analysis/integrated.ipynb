{
 "cells": [
  {
   "cell_type": "code",
   "execution_count": 1,
   "metadata": {
    "collapsed": true
   },
   "outputs": [],
   "source": [
    "import pandas as pd\n",
    "import numpy as np"
   ]
  },
  {
   "cell_type": "code",
   "execution_count": 2,
   "metadata": {
    "collapsed": true
   },
   "outputs": [],
   "source": [
    "## Dataset year - 2011"
   ]
  },
  {
   "cell_type": "code",
   "execution_count": 3,
   "metadata": {
    "collapsed": true
   },
   "outputs": [],
   "source": [
    "df = pd.read_csv('E:\\\\Desktop\\\\DS\\\\DS\\\\project\\\\final\\\\Baltimore_City_Employee_Salaries_2011.csv')"
   ]
  },
  {
   "cell_type": "code",
   "execution_count": 4,
   "metadata": {
    "collapsed": true
   },
   "outputs": [],
   "source": [
    "df = df.dropna()"
   ]
  },
  {
   "cell_type": "code",
   "execution_count": 5,
   "metadata": {
    "collapsed": true
   },
   "outputs": [],
   "source": [
    "df['HireDate'] = pd.to_datetime(df['HireDate'])"
   ]
  },
  {
   "cell_type": "code",
   "execution_count": 6,
   "metadata": {
    "collapsed": true
   },
   "outputs": [],
   "source": [
    "df['HireDate'] = df['HireDate'].dt.year"
   ]
  },
  {
   "cell_type": "code",
   "execution_count": 7,
   "metadata": {
    "collapsed": true
   },
   "outputs": [],
   "source": [
    "df['Experience'] = df['HireDate'].sub(2011, axis=0)\n",
    "df['Experience'] = df['Experience'].abs()"
   ]
  },
  {
   "cell_type": "code",
   "execution_count": 8,
   "metadata": {
    "collapsed": true
   },
   "outputs": [],
   "source": [
    "df = df[(df.HireDate >= 1972) & (df.Experience <= 2011)]"
   ]
  },
  {
   "cell_type": "code",
   "execution_count": 9,
   "metadata": {
    "collapsed": true
   },
   "outputs": [],
   "source": [
    "df.drop_duplicates(inplace = True)"
   ]
  },
  {
   "cell_type": "code",
   "execution_count": 10,
   "metadata": {
    "collapsed": true
   },
   "outputs": [],
   "source": [
    "df1 = df.copy()"
   ]
  },
  {
   "cell_type": "code",
   "execution_count": 11,
   "metadata": {
    "collapsed": true
   },
   "outputs": [],
   "source": [
    "df1 = df1.drop(['Name', 'AgencyID', 'GrossPay'], axis=1)"
   ]
  },
  {
   "cell_type": "code",
   "execution_count": 12,
   "metadata": {
    "collapsed": true
   },
   "outputs": [],
   "source": [
    "df1['AnnualSalary'] = df1['AnnualSalary'].dropna().apply(lambda time: (time[1:]))"
   ]
  },
  {
   "cell_type": "code",
   "execution_count": 13,
   "metadata": {
    "collapsed": false
   },
   "outputs": [
    {
     "data": {
      "text/plain": [
       "Index(['JobTitle', 'Agency', 'HireDate', 'AnnualSalary', 'Experience'], dtype='object')"
      ]
     },
     "execution_count": 13,
     "metadata": {},
     "output_type": "execute_result"
    }
   ],
   "source": [
    "df1.columns"
   ]
  },
  {
   "cell_type": "code",
   "execution_count": 14,
   "metadata": {
    "collapsed": true
   },
   "outputs": [],
   "source": [
    "## Start of the dataset year = 2012"
   ]
  },
  {
   "cell_type": "code",
   "execution_count": 15,
   "metadata": {
    "collapsed": true
   },
   "outputs": [],
   "source": [
    "df = pd.read_csv('E:\\\\Desktop\\\\DS\\\\DS\\\\project\\\\final\\\\Baltimore_City_Employee_Salaries_FY2012.csv')"
   ]
  },
  {
   "cell_type": "code",
   "execution_count": 16,
   "metadata": {
    "collapsed": true
   },
   "outputs": [],
   "source": [
    "df = df.dropna()"
   ]
  },
  {
   "cell_type": "code",
   "execution_count": 17,
   "metadata": {
    "collapsed": true
   },
   "outputs": [],
   "source": [
    "df['HireDate'] = pd.to_datetime(df['HireDate'])"
   ]
  },
  {
   "cell_type": "code",
   "execution_count": 18,
   "metadata": {
    "collapsed": true
   },
   "outputs": [],
   "source": [
    "df['HireDate'] = df['HireDate'].dt.year"
   ]
  },
  {
   "cell_type": "code",
   "execution_count": 19,
   "metadata": {
    "collapsed": true
   },
   "outputs": [],
   "source": [
    "df['Experience'] = df['HireDate'].sub(2012, axis=0)\n",
    "df['Experience'] = df['Experience'].abs()"
   ]
  },
  {
   "cell_type": "code",
   "execution_count": 20,
   "metadata": {
    "collapsed": true
   },
   "outputs": [],
   "source": [
    "df = df[(df.Experience >= 0) & (df.Experience <= 40)]"
   ]
  },
  {
   "cell_type": "code",
   "execution_count": 21,
   "metadata": {
    "collapsed": true
   },
   "outputs": [],
   "source": [
    "df = df[(df.HireDate >= 1972) & (df.Experience <= 2012)]"
   ]
  },
  {
   "cell_type": "code",
   "execution_count": 22,
   "metadata": {
    "collapsed": true
   },
   "outputs": [],
   "source": [
    "df.drop_duplicates(inplace = True)"
   ]
  },
  {
   "cell_type": "code",
   "execution_count": 23,
   "metadata": {
    "collapsed": true
   },
   "outputs": [],
   "source": [
    "df.rename(columns={'name': 'Name'}, inplace=True)"
   ]
  },
  {
   "cell_type": "code",
   "execution_count": 24,
   "metadata": {
    "collapsed": true
   },
   "outputs": [],
   "source": [
    "df['AnnualSalary'] = df['AnnualSalary'].dropna().apply(lambda time: (time[1:]))"
   ]
  },
  {
   "cell_type": "code",
   "execution_count": 25,
   "metadata": {
    "collapsed": true
   },
   "outputs": [],
   "source": [
    "df2 = df.copy()"
   ]
  },
  {
   "cell_type": "code",
   "execution_count": 26,
   "metadata": {
    "collapsed": false
   },
   "outputs": [
    {
     "data": {
      "text/plain": [
       "Index(['Name', 'JobTitle', 'AgencyID', 'Agency', 'HireDate', 'AnnualSalary',\n",
       "       'GrossPay', 'Experience'],\n",
       "      dtype='object')"
      ]
     },
     "execution_count": 26,
     "metadata": {},
     "output_type": "execute_result"
    }
   ],
   "source": [
    "df2.columns"
   ]
  },
  {
   "cell_type": "code",
   "execution_count": 27,
   "metadata": {
    "collapsed": false
   },
   "outputs": [],
   "source": [
    "df2 = df2.drop(['Name', 'AgencyID', 'GrossPay'], axis=1)"
   ]
  },
  {
   "cell_type": "code",
   "execution_count": 28,
   "metadata": {
    "collapsed": true
   },
   "outputs": [],
   "source": [
    "## Start for the year dataset - 2013"
   ]
  },
  {
   "cell_type": "code",
   "execution_count": null,
   "metadata": {
    "collapsed": true
   },
   "outputs": [],
   "source": []
  },
  {
   "cell_type": "code",
   "execution_count": null,
   "metadata": {
    "collapsed": false
   },
   "outputs": [],
   "source": []
  },
  {
   "cell_type": "code",
   "execution_count": 29,
   "metadata": {
    "collapsed": true
   },
   "outputs": [],
   "source": [
    "df = pd.read_csv('E:\\\\Desktop\\\\DS\\\\DS\\\\project\\\\final\\\\Baltimore_City_Employee_Salaries_FY2013.csv')"
   ]
  },
  {
   "cell_type": "code",
   "execution_count": 30,
   "metadata": {
    "collapsed": true
   },
   "outputs": [],
   "source": [
    "df = df.dropna()"
   ]
  },
  {
   "cell_type": "code",
   "execution_count": 31,
   "metadata": {
    "collapsed": true
   },
   "outputs": [],
   "source": [
    "df['HIRE_DT'] = pd.to_datetime(df['HIRE_DT'])"
   ]
  },
  {
   "cell_type": "code",
   "execution_count": 32,
   "metadata": {
    "collapsed": true
   },
   "outputs": [],
   "source": [
    "df['DESCR'] = df['DESCR'].replace(['COMP-Audits (001)', 'COMP-Audits (002)'], ['COMP-Audits', 'COMP-Audits'])"
   ]
  },
  {
   "cell_type": "code",
   "execution_count": 33,
   "metadata": {
    "collapsed": true
   },
   "outputs": [],
   "source": [
    "df['DESCR'].replace(regex=True,inplace=True,to_replace=r'\\d',value=r'')\n",
    "df['DESCR'] = df['DESCR'].str.replace(r'(',\"\")"
   ]
  },
  {
   "cell_type": "code",
   "execution_count": 34,
   "metadata": {
    "collapsed": true
   },
   "outputs": [],
   "source": [
    "df['DESCR'] = df['DESCR'].str.replace(r')',\"\")"
   ]
  },
  {
   "cell_type": "code",
   "execution_count": 35,
   "metadata": {
    "collapsed": true
   },
   "outputs": [],
   "source": [
    "df['HIRE_DT'] = df['HIRE_DT'].dt.year"
   ]
  },
  {
   "cell_type": "code",
   "execution_count": 36,
   "metadata": {
    "collapsed": true
   },
   "outputs": [],
   "source": [
    "df['Experience'] = df['HIRE_DT'].sub(2013, axis=0)\n",
    "df['Experience'] = df['Experience'].abs()"
   ]
  },
  {
   "cell_type": "code",
   "execution_count": 37,
   "metadata": {
    "collapsed": true
   },
   "outputs": [],
   "source": [
    "df = df[(df.Experience >= 0) & (df.Experience <= 40)]"
   ]
  },
  {
   "cell_type": "code",
   "execution_count": 38,
   "metadata": {
    "collapsed": true
   },
   "outputs": [],
   "source": [
    "df = df[(df.HIRE_DT >= 1972) & (df.Experience <= 2013)]"
   ]
  },
  {
   "cell_type": "code",
   "execution_count": 39,
   "metadata": {
    "collapsed": true
   },
   "outputs": [],
   "source": [
    "df.rename(columns={'NAME': 'Name','JOBTITLE': 'JobTitle','DESCR': 'Agency','HIRE_DT': 'HireDate','ANNUAL_RT': 'AnnualSalary'}, inplace=True)"
   ]
  },
  {
   "cell_type": "code",
   "execution_count": 40,
   "metadata": {
    "collapsed": true
   },
   "outputs": [],
   "source": [
    "df3 = df.copy()"
   ]
  },
  {
   "cell_type": "code",
   "execution_count": 41,
   "metadata": {
    "collapsed": false
   },
   "outputs": [
    {
     "data": {
      "text/plain": [
       "Index(['Name', 'JobTitle', 'DEPTID', 'Agency', 'HireDate', 'AnnualSalary',\n",
       "       'Gross', 'Experience'],\n",
       "      dtype='object')"
      ]
     },
     "execution_count": 41,
     "metadata": {},
     "output_type": "execute_result"
    }
   ],
   "source": [
    "df3.columns"
   ]
  },
  {
   "cell_type": "code",
   "execution_count": 42,
   "metadata": {
    "collapsed": false
   },
   "outputs": [],
   "source": [
    "df3 = df3.drop(['Name', 'DEPTID', 'Gross'], axis=1)"
   ]
  },
  {
   "cell_type": "code",
   "execution_count": 43,
   "metadata": {
    "collapsed": true
   },
   "outputs": [],
   "source": [
    "df3['AnnualSalary'] = df3['AnnualSalary'].dropna().apply(lambda time: (time[1:]))"
   ]
  },
  {
   "cell_type": "code",
   "execution_count": 44,
   "metadata": {
    "collapsed": false
   },
   "outputs": [
    {
     "data": {
      "text/plain": [
       "['COMP-Audits',\n",
       " 'COMP-Communication Services',\n",
       " \"COMP-Comptroller's Office\",\n",
       " 'COMP-Real Estate ',\n",
       " 'Circuit Court ',\n",
       " 'City Council ',\n",
       " 'Civil Rights & Wage Enforce ',\n",
       " 'Council Services ',\n",
       " 'DPW-Administration ',\n",
       " 'DPW-Solid Waste ',\n",
       " 'DPW-Solid Waste wkly ',\n",
       " 'DPW-Water & Waste Water ',\n",
       " 'ERS/EOS Admin ',\n",
       " 'Elections ',\n",
       " 'Enoch Pratt Free Library ',\n",
       " 'FIN-Acct & Payroll ',\n",
       " 'FIN-Admin & Budgets ',\n",
       " 'FIN-Collections ',\n",
       " 'FIN-Purchasing ',\n",
       " 'FPR Admin ',\n",
       " 'Fire Department ',\n",
       " 'Fire Department MIL',\n",
       " 'General Services ',\n",
       " 'HLTH-Health Department ',\n",
       " 'HLTH-Health Department MIL',\n",
       " 'HLTH-Health Dept. Location ',\n",
       " 'HLTH-Heatlh Dept.',\n",
       " 'HLTH-Heatlh Dept. Location ',\n",
       " 'HR-Human Resources ',\n",
       " 'HR-Test Monitor ',\n",
       " 'Housing & Community Dev ',\n",
       " 'Law Department ',\n",
       " 'Legislative Reference ',\n",
       " 'Liquor License Board ',\n",
       " 'M-R Cable & Comm ',\n",
       " 'M-R Convention Center ',\n",
       " 'M-R Environmental Cntrl ',\n",
       " 'M-R Human Services ',\n",
       " 'M-R Info Technology ',\n",
       " 'M-R Labor Commissioner ',\n",
       " \"Mayor's Office \",\n",
       " 'Mayors Office ',\n",
       " 'Municipal & Zoning Appeals ',\n",
       " 'OED-Employment Dev ',\n",
       " \"Orphan's Court \",\n",
       " 'Planning Department ',\n",
       " 'Police Department ',\n",
       " 'Police Department MIL',\n",
       " 'R&P-Administration ',\n",
       " 'R&P-Parks ',\n",
       " 'R&P-Parks wkly ',\n",
       " 'R&P-Recreation ',\n",
       " 'R&P-Recreation part-time ',\n",
       " \"Sheriff's Office \",\n",
       " 'Special City Services ',\n",
       " 'States Attorneys Office ',\n",
       " 'TRANS-Cross Guard-Summer',\n",
       " 'TRANS-Crossing Guards ',\n",
       " 'TRANS-Highways ',\n",
       " 'TRANS-Highways wkly ',\n",
       " 'TRANS-Towing ',\n",
       " 'TRANS-Traffic ',\n",
       " 'Youth Cust A',\n",
       " 'Youth Summer ',\n",
       " 'Youth Summer  ',\n",
       " 'Youth Temp Adult ']"
      ]
     },
     "execution_count": 44,
     "metadata": {},
     "output_type": "execute_result"
    }
   ],
   "source": [
    "sorted(df3['Agency'].unique())"
   ]
  },
  {
   "cell_type": "code",
   "execution_count": 45,
   "metadata": {
    "collapsed": true
   },
   "outputs": [],
   "source": [
    "df = pd.read_csv('E:\\\\Desktop\\\\DS\\\\DS\\\\project\\\\final\\\\Baltimore_City_Employee_Salaries_FY2014.csv')"
   ]
  },
  {
   "cell_type": "code",
   "execution_count": 46,
   "metadata": {
    "collapsed": true
   },
   "outputs": [],
   "source": [
    "df = df.dropna()"
   ]
  },
  {
   "cell_type": "code",
   "execution_count": 47,
   "metadata": {
    "collapsed": true
   },
   "outputs": [],
   "source": [
    "df['HireDate'] = pd.to_datetime(df['HireDate'])"
   ]
  },
  {
   "cell_type": "code",
   "execution_count": 48,
   "metadata": {
    "collapsed": true
   },
   "outputs": [],
   "source": [
    "df['HireDate'] = df['HireDate'].dt.year"
   ]
  },
  {
   "cell_type": "code",
   "execution_count": 49,
   "metadata": {
    "collapsed": true
   },
   "outputs": [],
   "source": [
    "df['Experience'] = df['HireDate'].sub(2014, axis=0)\n",
    "df['Experience'] = df['Experience'].abs()"
   ]
  },
  {
   "cell_type": "code",
   "execution_count": 50,
   "metadata": {
    "collapsed": true
   },
   "outputs": [],
   "source": [
    "df = df[(df.Experience >= 0) & (df.Experience <= 40)]"
   ]
  },
  {
   "cell_type": "code",
   "execution_count": 51,
   "metadata": {
    "collapsed": true
   },
   "outputs": [],
   "source": [
    "df = df[(df.HireDate >= 1972) & (df.Experience <= 2014)]"
   ]
  },
  {
   "cell_type": "code",
   "execution_count": 52,
   "metadata": {
    "collapsed": true
   },
   "outputs": [],
   "source": [
    "df.rename(columns={' Name' :'Name'},inplace=True)"
   ]
  },
  {
   "cell_type": "code",
   "execution_count": 53,
   "metadata": {
    "collapsed": true
   },
   "outputs": [],
   "source": [
    "df4 = df.copy()"
   ]
  },
  {
   "cell_type": "code",
   "execution_count": 54,
   "metadata": {
    "collapsed": false
   },
   "outputs": [
    {
     "data": {
      "text/plain": [
       "Index(['Name', 'JobTitle', 'AgencyID', 'Agency', 'HireDate', 'AnnualSalary',\n",
       "       'GrossPay', 'Experience'],\n",
       "      dtype='object')"
      ]
     },
     "execution_count": 54,
     "metadata": {},
     "output_type": "execute_result"
    }
   ],
   "source": [
    "df4.columns"
   ]
  },
  {
   "cell_type": "code",
   "execution_count": 55,
   "metadata": {
    "collapsed": true
   },
   "outputs": [],
   "source": [
    "df4 = df4.drop(['Name', 'AgencyID', 'GrossPay'], axis=1)"
   ]
  },
  {
   "cell_type": "code",
   "execution_count": 56,
   "metadata": {
    "collapsed": true
   },
   "outputs": [],
   "source": [
    "df4['AnnualSalary'] = df4['AnnualSalary'].dropna().apply(lambda time: (time[1:]))"
   ]
  },
  {
   "cell_type": "code",
   "execution_count": 57,
   "metadata": {
    "collapsed": true
   },
   "outputs": [],
   "source": [
    "### Start of the dataset year = 2015"
   ]
  },
  {
   "cell_type": "code",
   "execution_count": 58,
   "metadata": {
    "collapsed": true
   },
   "outputs": [],
   "source": [
    "df = pd.read_csv('E:\\\\Desktop\\\\DS\\\\DS\\\\project\\\\final\\\\Baltimore_City_Employee_Salaries_FY2015.csv')"
   ]
  },
  {
   "cell_type": "code",
   "execution_count": 59,
   "metadata": {
    "collapsed": true
   },
   "outputs": [],
   "source": [
    "df = df.dropna()"
   ]
  },
  {
   "cell_type": "code",
   "execution_count": 60,
   "metadata": {
    "collapsed": true
   },
   "outputs": [],
   "source": [
    "df['HireDate'] = pd.to_datetime(df['HireDate'])"
   ]
  },
  {
   "cell_type": "code",
   "execution_count": 61,
   "metadata": {
    "collapsed": true
   },
   "outputs": [],
   "source": [
    "df['HireDate'] = df['HireDate'].dt.year"
   ]
  },
  {
   "cell_type": "code",
   "execution_count": 62,
   "metadata": {
    "collapsed": true
   },
   "outputs": [],
   "source": [
    "df['Experience'] = df['HireDate'].sub(2015, axis=0)\n",
    "df['Experience'] = df['Experience'].abs()"
   ]
  },
  {
   "cell_type": "code",
   "execution_count": 63,
   "metadata": {
    "collapsed": true
   },
   "outputs": [],
   "source": [
    "df = df[(df.Experience >= 0) & (df.Experience <= 40)]"
   ]
  },
  {
   "cell_type": "code",
   "execution_count": 64,
   "metadata": {
    "collapsed": true
   },
   "outputs": [],
   "source": [
    "df = df[(df.HireDate >= 1972) & (df.Experience <= 2015)]"
   ]
  },
  {
   "cell_type": "code",
   "execution_count": 65,
   "metadata": {
    "collapsed": true
   },
   "outputs": [],
   "source": [
    "df5 = df.copy()"
   ]
  },
  {
   "cell_type": "code",
   "execution_count": 66,
   "metadata": {
    "collapsed": true
   },
   "outputs": [],
   "source": [
    "df5 = df5.drop(['name', 'AgencyID', 'GrossPay'], axis=1)"
   ]
  },
  {
   "cell_type": "code",
   "execution_count": 67,
   "metadata": {
    "collapsed": true
   },
   "outputs": [],
   "source": [
    "df5['Agency'].replace(regex=True,inplace=True,to_replace=r'\\d',value=r'')\n",
    "df5['Agency'] = df5['Agency'].str.replace(r'(',\"\")"
   ]
  },
  {
   "cell_type": "code",
   "execution_count": 68,
   "metadata": {
    "collapsed": true
   },
   "outputs": [],
   "source": [
    "df5['Agency'] = df5['Agency'].str.replace(r')',\"\")"
   ]
  },
  {
   "cell_type": "code",
   "execution_count": 69,
   "metadata": {
    "collapsed": true
   },
   "outputs": [],
   "source": [
    "df5['AnnualSalary'] = df5['AnnualSalary'].dropna().apply(lambda time: (time[1:]))"
   ]
  },
  {
   "cell_type": "code",
   "execution_count": 70,
   "metadata": {
    "collapsed": false
   },
   "outputs": [],
   "source": [
    "##frames = [df1,df2,df3,df4,df5]\n",
    "frames = [df1,df2,df3,df4]"
   ]
  },
  {
   "cell_type": "code",
   "execution_count": 71,
   "metadata": {
    "collapsed": true
   },
   "outputs": [],
   "source": [
    "result = pd.concat(frames)"
   ]
  },
  {
   "cell_type": "code",
   "execution_count": null,
   "metadata": {
    "collapsed": false
   },
   "outputs": [
    {
     "data": {
      "text/plain": [
       "Index(['JobTitle', 'Agency', 'HireDate', 'AnnualSalary', 'Experience'], dtype='object')"
      ]
     },
     "execution_count": 72,
     "metadata": {},
     "output_type": "execute_result"
    }
   ],
   "source": [
    "result.columns"
   ]
  },
  {
   "cell_type": "code",
   "execution_count": null,
   "metadata": {
    "collapsed": false
   },
   "outputs": [
    {
     "data": {
      "text/html": [
       "<div>\n",
       "<table border=\"1\" class=\"dataframe\">\n",
       "  <thead>\n",
       "    <tr style=\"text-align: right;\">\n",
       "      <th></th>\n",
       "      <th>JobTitle</th>\n",
       "      <th>Agency</th>\n",
       "      <th>HireDate</th>\n",
       "      <th>AnnualSalary</th>\n",
       "      <th>Experience</th>\n",
       "    </tr>\n",
       "  </thead>\n",
       "  <tbody>\n",
       "    <tr>\n",
       "      <th>0</th>\n",
       "      <td>Facilities/Office Services II</td>\n",
       "      <td>OED-Employment Dev</td>\n",
       "      <td>1979</td>\n",
       "      <td>50845.00</td>\n",
       "      <td>32</td>\n",
       "    </tr>\n",
       "  </tbody>\n",
       "</table>\n",
       "</div>"
      ],
      "text/plain": [
       "                        JobTitle              Agency  HireDate AnnualSalary  \\\n",
       "0  Facilities/Office Services II  OED-Employment Dev      1979     50845.00   \n",
       "\n",
       "   Experience  \n",
       "0          32  "
      ]
     },
     "execution_count": 73,
     "metadata": {},
     "output_type": "execute_result"
    }
   ],
   "source": [
    "result.head(1)"
   ]
  },
  {
   "cell_type": "code",
   "execution_count": null,
   "metadata": {
    "collapsed": false
   },
   "outputs": [
    {
     "data": {
      "text/plain": [
       "140"
      ]
     },
     "execution_count": 74,
     "metadata": {},
     "output_type": "execute_result"
    }
   ],
   "source": [
    "sorted(result['Agency'].unique())\n",
    "len(result['Agency'].unique())\n",
    "#len(result['JobTitle'].unique())\n",
    "#len(result['HireDate'].unique())\n"
   ]
  },
  {
   "cell_type": "code",
   "execution_count": null,
   "metadata": {
    "collapsed": true
   },
   "outputs": [],
   "source": [
    "##result['Agency'] = result['Agency'].str.replace(r' ',\"\")\n",
    "result['Agency'] = result['Agency'].map(lambda x: x.strip())"
   ]
  },
  {
   "cell_type": "code",
   "execution_count": null,
   "metadata": {
    "collapsed": false
   },
   "outputs": [
    {
     "data": {
      "text/plain": [
       "['COMP-Audits',\n",
       " 'COMP-Communication Ser',\n",
       " 'COMP-Communication Services',\n",
       " \"COMP-Comptroller's O\",\n",
       " \"COMP-Comptroller's Office\",\n",
       " 'COMP-Real Estate',\n",
       " 'Circuit Court',\n",
       " 'City Council',\n",
       " 'Civil Rights & Wage Enfor',\n",
       " 'Civil Rights & Wage Enforce',\n",
       " 'Community Relations',\n",
       " 'Council Services',\n",
       " 'DPW-Administration',\n",
       " 'DPW-Solid Waste',\n",
       " 'DPW-Solid Waste (wkly)',\n",
       " 'DPW-Solid Waste wkly',\n",
       " 'DPW-Water & Waste Water',\n",
       " 'ERS/EOS Admin',\n",
       " 'Elections',\n",
       " 'Enoch Pratt Free Library',\n",
       " 'FIN-Acct & Payroll',\n",
       " 'FIN-Admin & Budgets',\n",
       " 'FIN-Collections',\n",
       " 'FIN-Purchasing',\n",
       " 'FIN-Risk Management Oper',\n",
       " 'FIN-Treasury Mgt',\n",
       " 'FPR Admin',\n",
       " 'Fire Academy Recruits',\n",
       " 'Fire Department',\n",
       " 'Fire Department MIL',\n",
       " 'General Services',\n",
       " 'HLTH-Emergency Medical Team',\n",
       " 'HLTH-Health Department',\n",
       " 'HLTH-Health Department MIL',\n",
       " 'HLTH-Health Dept Locatio',\n",
       " 'HLTH-Health Dept. Locatio',\n",
       " 'HLTH-Health Dept. Location',\n",
       " 'HLTH-Heatlh',\n",
       " 'HLTH-Heatlh Dept.',\n",
       " 'HLTH-Heatlh Dept. Locatio',\n",
       " 'HLTH-Heatlh Dept. Location',\n",
       " 'HR-Human Resources',\n",
       " 'HR-Test Monitor',\n",
       " 'Housing & Community Dev',\n",
       " 'Law Department',\n",
       " 'Legislative Reference',\n",
       " 'Liquor License Board',\n",
       " 'M-R Cable & Comm',\n",
       " 'M-R Convention Center',\n",
       " 'M-R Environmental Cntrl',\n",
       " 'M-R Human Services',\n",
       " 'M-R Info Technology',\n",
       " 'M-R Labor Commissioner',\n",
       " \"Mayor's Office\",\n",
       " 'Mayors Office',\n",
       " 'Municipal & Zoning Appeal',\n",
       " 'Municipal & Zoning Appeals',\n",
       " 'Municipal & Zoning Appeals 001',\n",
       " 'OED-Employment Dev',\n",
       " \"Orphan's Court\",\n",
       " 'Planning Department',\n",
       " 'Police Department',\n",
       " 'Police Department MIL',\n",
       " 'R&P-Administration',\n",
       " 'R&P-Parks',\n",
       " 'R&P-Parks (wkly)',\n",
       " 'R&P-Parks wkly',\n",
       " 'R&P-Recreation',\n",
       " 'R&P-Recreation (part-ti',\n",
       " 'R&P-Recreation part-time',\n",
       " \"Sheriff's Office\",\n",
       " 'Special City Services',\n",
       " 'States Attorneys Office',\n",
       " 'TANF Cust',\n",
       " 'TRANS-Cross Guard-S',\n",
       " 'TRANS-Cross Guard-Summer',\n",
       " 'TRANS-Crossing Guards',\n",
       " 'TRANS-Highways',\n",
       " 'TRANS-Highways (wkly)',\n",
       " 'TRANS-Highways wkly',\n",
       " 'TRANS-Towing',\n",
       " 'TRANS-Traffic',\n",
       " 'Wage Commissioner',\n",
       " 'War Memorial Commission',\n",
       " 'Youth Cust',\n",
       " 'Youth Cust A',\n",
       " 'Youth Summer',\n",
       " 'Youth Temp Adult']"
      ]
     },
     "execution_count": 76,
     "metadata": {},
     "output_type": "execute_result"
    }
   ],
   "source": [
    "sorted(result['Agency'].unique())"
   ]
  },
  {
   "cell_type": "code",
   "execution_count": null,
   "metadata": {
    "collapsed": false
   },
   "outputs": [],
   "source": [
    "##sorted(df1['Agency'].unique())"
   ]
  },
  {
   "cell_type": "code",
   "execution_count": null,
   "metadata": {
    "collapsed": false
   },
   "outputs": [],
   "source": [
    "##sorted(df2['Agency'].unique())"
   ]
  },
  {
   "cell_type": "code",
   "execution_count": null,
   "metadata": {
    "collapsed": false
   },
   "outputs": [],
   "source": [
    "##sorted(df3['Agency'].unique())"
   ]
  },
  {
   "cell_type": "code",
   "execution_count": null,
   "metadata": {
    "collapsed": false
   },
   "outputs": [],
   "source": [
    "##sorted(df4['Agency'].unique())"
   ]
  },
  {
   "cell_type": "code",
   "execution_count": null,
   "metadata": {
    "collapsed": false
   },
   "outputs": [],
   "source": [
    "##sorted(df5['Agency'].unique())"
   ]
  },
  {
   "cell_type": "code",
   "execution_count": null,
   "metadata": {
    "collapsed": false
   },
   "outputs": [],
   "source": [
    "result['Agency'] = result['Agency'].replace(['COMP-Communication Ser', \n",
    "\"COMP-Comptroller's O\",\n",
    "\"Civil Rights & Wage Enfor\",\n",
    "'DPW-Solid Waste (wkly)',\n",
    "'DPW-Solid Waste wkly',\n",
    "'HLTH-Health Dept Locatio',\n",
    "'HLTH-Health Dept Location',\n",
    "'HLTH-Health Dept. Locatio',\n",
    "'HLTH-Health Dept. Location',\n",
    "'HLTH-Heatlh',\n",
    "'HLTH-Heatlh Dept.',\n",
    "'HLTH-Heatlh Dept. Locatio',\n",
    "'HLTH-Heatlh Dept. Location',\n",
    "'HLTH-Heatlh Dept. Locatio',\n",
    "'HLTH-Heatlh Dept. Location',\n",
    "'Mayors Office',\n",
    "'Municipal & Zoning Appeals',\n",
    "'Municipal & Zoning Appeals 001',\n",
    "'R&P-Parks (wkly)',\n",
    "'R&P-Parks wkly',\n",
    "'R&P-Recreation (part-ti',\n",
    "'R&P-Recreation part-time',\n",
    "'TRANS-Cross Guard-S',\n",
    "'TRANS-Cross Guard-Summer',\n",
    "'TRANS-Highways (wkly)',\n",
    "'TRANS-Highways wkly',\n",
    "'Youth Cust A'],\n",
    "['COMP-Communication Services',\n",
    "\"COMP-Comptroller's Office\",\n",
    "\"Civil Rights & Wage Enforce\",\n",
    "'DPW-Solid Waste',\n",
    "'DPW-Solid Waste',\n",
    "'HLTH-Health Department',\n",
    "'HLTH-Health Department',\n",
    "'HLTH-Health Department',\n",
    "'HLTH-Health Department',\n",
    "'HLTH-Health Department',\n",
    "'HLTH-Health Department',\n",
    "'HLTH-Health Department',\n",
    "'HLTH-Health Department',\n",
    "'HLTH-Health Department',\n",
    "'HLTH-Health Department',\n",
    "'Mayors Office',\n",
    "'Municipal & Zoning Appeal',\n",
    "'Municipal & Zoning Appeal',\n",
    "'R&P-Parks',\n",
    "'R&P-Parks',\n",
    "'R&P-Recreation',\n",
    "'R&P-Recreation',\n",
    "'TRANS-Crossing Guards',\n",
    "'TRANS-Crossing Guards',\n",
    "'TRANS-Highways',\n",
    "'TRANS-Highways',\n",
    "'Youth Cust'])"
   ]
  },
  {
   "cell_type": "code",
   "execution_count": null,
   "metadata": {
    "collapsed": false
   },
   "outputs": [],
   "source": [
    "##result['Agency'] = result['Agency'].replace(['COMP-Communication Ser'], ['COMP-Communication Services'])"
   ]
  },
  {
   "cell_type": "code",
   "execution_count": null,
   "metadata": {
    "collapsed": false
   },
   "outputs": [],
   "source": [
    "##result['Agency'] = result['Agency'].replace([\"COMP-Comptroller's O\"], [\"COMP-Comptroller's Office\"])"
   ]
  },
  {
   "cell_type": "code",
   "execution_count": null,
   "metadata": {
    "collapsed": false
   },
   "outputs": [
    {
     "data": {
      "text/plain": [
       "0         OED-Employment Dev\n",
       "1    States Attorneys Office\n",
       "2     HLTH-Health Department\n",
       "3      Fire Academy Recruits\n",
       "4          Police Department\n",
       "Name: Agency, dtype: object"
      ]
     },
     "execution_count": 85,
     "metadata": {},
     "output_type": "execute_result"
    }
   ],
   "source": [
    "result['Agency'].head(5)"
   ]
  },
  {
   "cell_type": "code",
   "execution_count": null,
   "metadata": {
    "collapsed": false
   },
   "outputs": [
    {
     "data": {
      "text/plain": [
       "65"
      ]
     },
     "execution_count": 86,
     "metadata": {},
     "output_type": "execute_result"
    }
   ],
   "source": [
    "sorted(result['Agency'].unique())\n",
    "len(result['Agency'].unique())"
   ]
  },
  {
   "cell_type": "code",
   "execution_count": null,
   "metadata": {
    "collapsed": false
   },
   "outputs": [
    {
     "data": {
      "text/plain": [
       "['10000.00',\n",
       " '100000.00',\n",
       " '100048.00',\n",
       " '100880.00',\n",
       " '101000.00',\n",
       " '10127.00',\n",
       " '101425.00',\n",
       " '101500.00',\n",
       " '101700.00',\n",
       " '101900.00',\n",
       " '101930.00',\n",
       " '101934.00',\n",
       " '102000.00',\n",
       " '102211.00',\n",
       " '102300.00',\n",
       " '102500.00',\n",
       " '102961.00',\n",
       " '103168.00',\n",
       " '103200.00',\n",
       " '103500.00',\n",
       " '103600.00',\n",
       " '10400.00',\n",
       " '104000.00',\n",
       " '10414.00',\n",
       " '104159.00',\n",
       " '104800.00',\n",
       " '10500.00',\n",
       " '105000.00',\n",
       " '105023.00',\n",
       " '105100.00',\n",
       " '105200.00',\n",
       " '105300.00',\n",
       " '105513.12',\n",
       " '105570.00',\n",
       " '105872.00',\n",
       " '106100.00',\n",
       " '106200.00',\n",
       " '106392.00',\n",
       " '106400.00',\n",
       " '106600.00',\n",
       " '106800.00',\n",
       " '106941.00',\n",
       " '10701.00',\n",
       " '107200.00',\n",
       " '107432.00',\n",
       " '107500.00',\n",
       " '108160.00',\n",
       " '108640.00',\n",
       " '109100.00',\n",
       " '109863.00',\n",
       " '10988.00',\n",
       " '109890.00',\n",
       " '11000.00',\n",
       " '110000.00',\n",
       " '110200.00',\n",
       " '110854.00',\n",
       " '111000.00',\n",
       " '111100.00',\n",
       " '111180.00',\n",
       " '111200.00',\n",
       " '111282.00',\n",
       " '111500.00',\n",
       " '111573.00',\n",
       " '111900.00',\n",
       " '112500.00',\n",
       " '112800.00',\n",
       " '112838.00',\n",
       " '11369.00',\n",
       " '114000.00',\n",
       " '114050.00',\n",
       " '114400.00',\n",
       " '114800.00',\n",
       " '115000.00',\n",
       " '115700.00',\n",
       " '115891.00',\n",
       " '116000.00',\n",
       " '116756.00',\n",
       " '116800.00',\n",
       " '117300.00',\n",
       " '118500.00',\n",
       " '118560.00',\n",
       " '118600.00',\n",
       " '119000.00',\n",
       " '119080.00',\n",
       " '120000.00',\n",
       " '120200.00',\n",
       " '120640.00',\n",
       " '120855.00',\n",
       " '121688.00',\n",
       " '12212.00',\n",
       " '122315.00',\n",
       " '124800.00',\n",
       " '125000.00',\n",
       " '127500.00',\n",
       " '128200.00',\n",
       " '129000.00',\n",
       " '129400.00',\n",
       " '129744.00',\n",
       " '129950.00',\n",
       " '130000.00',\n",
       " '132000.00',\n",
       " '132400.00',\n",
       " '134700.00',\n",
       " '135000.00',\n",
       " '13825.00',\n",
       " '140000.00',\n",
       " '14240.00',\n",
       " '143100.00',\n",
       " '145215.00',\n",
       " '14655.00',\n",
       " '147800.00',\n",
       " '15080.00',\n",
       " '15184.00',\n",
       " '15265.00',\n",
       " '152680.00',\n",
       " '15288.00',\n",
       " '15438.00',\n",
       " '155493.00',\n",
       " '15600.00',\n",
       " '15636.00',\n",
       " '15730.00',\n",
       " '158100.00',\n",
       " '160000.00',\n",
       " '16161.00',\n",
       " '16224.00',\n",
       " '16432.00',\n",
       " '16640.00',\n",
       " '166400.00',\n",
       " '16744.00',\n",
       " '16796.00',\n",
       " '16952.00',\n",
       " '170000.00',\n",
       " '17160.00',\n",
       " '17576.00',\n",
       " '17680.00',\n",
       " '17784.00',\n",
       " '1800.00',\n",
       " '18114.98',\n",
       " '181472.00',\n",
       " '18200.00',\n",
       " '18720.00',\n",
       " '19066.67',\n",
       " '19282.00',\n",
       " '193800.00',\n",
       " '19760.00',\n",
       " '2000.00',\n",
       " '20020.00',\n",
       " '20425.00',\n",
       " '20566.00',\n",
       " '20800.00',\n",
       " '21320.00',\n",
       " '21424.00',\n",
       " '21675.00',\n",
       " '21840.00',\n",
       " '21964.00',\n",
       " '22077.00',\n",
       " '22249.00',\n",
       " '22397.00',\n",
       " '22448.00',\n",
       " '22568.00',\n",
       " '22577.00',\n",
       " '22733.00',\n",
       " '22880.00',\n",
       " '22970.00',\n",
       " '23296.00',\n",
       " '23338.00',\n",
       " '23379.00',\n",
       " '23395.00',\n",
       " '23400.00',\n",
       " '23583.00',\n",
       " '23661.73',\n",
       " '23712.00',\n",
       " '23751.00',\n",
       " '23803.00',\n",
       " '238772.00',\n",
       " '23883.00',\n",
       " '23920.00',\n",
       " '23928.00',\n",
       " '24000.00',\n",
       " '24119.00',\n",
       " '24217.00',\n",
       " '24222.00',\n",
       " '24328.00',\n",
       " '24541.00',\n",
       " '24582.00',\n",
       " '24690.00',\n",
       " '2484.00',\n",
       " '24960.00',\n",
       " '25075.00',\n",
       " '25277.00',\n",
       " '25376.00',\n",
       " '25479.00',\n",
       " '25480.00',\n",
       " '25667.00',\n",
       " '25708.00',\n",
       " '25709.00',\n",
       " '25800.00',\n",
       " '25850.00',\n",
       " '26000.00',\n",
       " '26013.00',\n",
       " '26220.00',\n",
       " '26223.00',\n",
       " '26272.00',\n",
       " '26388.00',\n",
       " '26506.00',\n",
       " '26539.00',\n",
       " '26628.00',\n",
       " '26661.00',\n",
       " '26663.00',\n",
       " '26728.00',\n",
       " '26731.00',\n",
       " '26749.00',\n",
       " '26807.00',\n",
       " '26832.00',\n",
       " '26927.00',\n",
       " '26986.00',\n",
       " '27026.00',\n",
       " '27040.00',\n",
       " '27076.00',\n",
       " '27144.00',\n",
       " '27152.00',\n",
       " '27300.00',\n",
       " '27410.00',\n",
       " '27427.00',\n",
       " '27485.00',\n",
       " '27530.00',\n",
       " '27546.00',\n",
       " '27560.00',\n",
       " '27573.00',\n",
       " '27614.00',\n",
       " '27888.00',\n",
       " '27997.00',\n",
       " '28000.00',\n",
       " '28057.00',\n",
       " '28059.00',\n",
       " '28080.00',\n",
       " '28091.00',\n",
       " '28096.00',\n",
       " '28106.00',\n",
       " '28145.00',\n",
       " '28226.00',\n",
       " '28442.00',\n",
       " '28454.00',\n",
       " '28500.00',\n",
       " '28600.00',\n",
       " '28602.00',\n",
       " '28627.00',\n",
       " '28654.00',\n",
       " '28768.00',\n",
       " '28775.00',\n",
       " '28829.00',\n",
       " '28875.00',\n",
       " '28891.00',\n",
       " '28898.00',\n",
       " '28928.00',\n",
       " '28949.00',\n",
       " '28989.00',\n",
       " '29025.00',\n",
       " '29039.00',\n",
       " '29067.00',\n",
       " '29078.00',\n",
       " '29119.00',\n",
       " '29120.00',\n",
       " '29280.00',\n",
       " '29326.00',\n",
       " '29349.00',\n",
       " '29430.00',\n",
       " '29446.00',\n",
       " '29472.00',\n",
       " '29494.00',\n",
       " '29515.00',\n",
       " '29630.00',\n",
       " '29638.00',\n",
       " '29662.00',\n",
       " '29723.00',\n",
       " '29763.00',\n",
       " '29833.00',\n",
       " '29908.00',\n",
       " '29952.00',\n",
       " '29994.00',\n",
       " '30000.00',\n",
       " '30054.00',\n",
       " '30086.00',\n",
       " '30098.00',\n",
       " '30103.00',\n",
       " '30139.00',\n",
       " '30155.00',\n",
       " '30206.00',\n",
       " '30243.00',\n",
       " '30253.00',\n",
       " '30282.00',\n",
       " '30286.00',\n",
       " '30339.00',\n",
       " '30356.00',\n",
       " '30409.00',\n",
       " '30464.00',\n",
       " '30481.00',\n",
       " '30501.00',\n",
       " '30510.00',\n",
       " '30555.00',\n",
       " '30606.00',\n",
       " '30613.00',\n",
       " '30618.00',\n",
       " '30623.00',\n",
       " '30635.00',\n",
       " '30677.00',\n",
       " '30700.00',\n",
       " '30725.00',\n",
       " '30726.00',\n",
       " '30747.00',\n",
       " '30753.00',\n",
       " '30805.00',\n",
       " '30825.00',\n",
       " '30881.00',\n",
       " '30926.00',\n",
       " '31000.00',\n",
       " '31006.00',\n",
       " '31033.00',\n",
       " '31034.00',\n",
       " '31043.20',\n",
       " '31074.00',\n",
       " '31086.00',\n",
       " '31096.00',\n",
       " '31119.00',\n",
       " '31181.00',\n",
       " '31199.00',\n",
       " '31200.00',\n",
       " '31226.00',\n",
       " '31240.00',\n",
       " '31304.00',\n",
       " '31341.00',\n",
       " '31364.00',\n",
       " '31387.00',\n",
       " '31400.00',\n",
       " '31421.00',\n",
       " '31465.00',\n",
       " '31478.00',\n",
       " '31521.00',\n",
       " '31609.00',\n",
       " '31614.00',\n",
       " '31621.00',\n",
       " '31622.00',\n",
       " '31634.00',\n",
       " '31647.00',\n",
       " '31681.00',\n",
       " '31695.00',\n",
       " '31699.00',\n",
       " '31702.00',\n",
       " '31708.00',\n",
       " '31754.00',\n",
       " '31825.00',\n",
       " '31838.00',\n",
       " '31909.00',\n",
       " '31914.00',\n",
       " '31928.00',\n",
       " '31966.00',\n",
       " '32000.00',\n",
       " '32067.00',\n",
       " '32132.00',\n",
       " '32136.00',\n",
       " '32142.00',\n",
       " '32198.00',\n",
       " '32219.00',\n",
       " '32307.00',\n",
       " '32354.00',\n",
       " '32365.00',\n",
       " '32448.00',\n",
       " '32542.00',\n",
       " '32555.00',\n",
       " '32557.00',\n",
       " '32569.00',\n",
       " '32572.00',\n",
       " '32583.00',\n",
       " '32599.00',\n",
       " '32606.00',\n",
       " '32653.00',\n",
       " '32683.00',\n",
       " '32812.00',\n",
       " '32822.00',\n",
       " '32846.00',\n",
       " '32853.00',\n",
       " '33007.00',\n",
       " '33015.00',\n",
       " '33045.00',\n",
       " '33087.00',\n",
       " '33090.00',\n",
       " '33093.00',\n",
       " '33112.00',\n",
       " '33200.00',\n",
       " '33280.00',\n",
       " '33300.00',\n",
       " '33318.00',\n",
       " '33376.00',\n",
       " '33446.00',\n",
       " '33463.00',\n",
       " '33476.00',\n",
       " '33491.00',\n",
       " '33496.00',\n",
       " '33505.00',\n",
       " '33532.00',\n",
       " '33560.00',\n",
       " '33568.00',\n",
       " '33633.00',\n",
       " '33654.00',\n",
       " '33663.00',\n",
       " '33715.00',\n",
       " '33717.00',\n",
       " '33726.00',\n",
       " '33743.00',\n",
       " '33780.00',\n",
       " '33784.00',\n",
       " '33800.00',\n",
       " '33821.00',\n",
       " '33841.00',\n",
       " '33857.00',\n",
       " '33884.00',\n",
       " '33892.00',\n",
       " '33946.00',\n",
       " '33966.00',\n",
       " '33987.00',\n",
       " '33993.00',\n",
       " '33994.00',\n",
       " '34000.00',\n",
       " '34037.00',\n",
       " '34183.00',\n",
       " '34300.00',\n",
       " '34323.00',\n",
       " '34384.00',\n",
       " '34413.00',\n",
       " '34453.00',\n",
       " '34481.00',\n",
       " '34501.00',\n",
       " '34504.00',\n",
       " '34528.00',\n",
       " '34541.00',\n",
       " '34554.00',\n",
       " '34579.00',\n",
       " '34611.00',\n",
       " '34613.00',\n",
       " '34618.00',\n",
       " '34632.00',\n",
       " '34643.00',\n",
       " '34680.00',\n",
       " '34777.00',\n",
       " '34856.00',\n",
       " '34873.00',\n",
       " '34975.00',\n",
       " '34985.00',\n",
       " '35104.00',\n",
       " '35242.00',\n",
       " '35305.00',\n",
       " '35360.00',\n",
       " '35369.00',\n",
       " '35400.00',\n",
       " '35401.00',\n",
       " '35405.00',\n",
       " '35409.00',\n",
       " '35419.00',\n",
       " '35430.00',\n",
       " '35458.00',\n",
       " '35489.00',\n",
       " '35571.00',\n",
       " '35593.00',\n",
       " '35594.00',\n",
       " '35623.00',\n",
       " '35630.00',\n",
       " '35700.00',\n",
       " '35755.00',\n",
       " '35833.00',\n",
       " '35859.00',\n",
       " '35871.00',\n",
       " '35889.00',\n",
       " '3600.00',\n",
       " '36004.00',\n",
       " '36008.00',\n",
       " '36045.00',\n",
       " '36127.00',\n",
       " '36156.00',\n",
       " '36157.00',\n",
       " '36196.00',\n",
       " '36210.00',\n",
       " '36211.00',\n",
       " '36229.00',\n",
       " '36280.00',\n",
       " '36300.00',\n",
       " '36340.00',\n",
       " '36349.00',\n",
       " '36379.00',\n",
       " '36389.00',\n",
       " '36573.00',\n",
       " '36601.00',\n",
       " '36603.00',\n",
       " '36634.00',\n",
       " '36639.00',\n",
       " '36674.00',\n",
       " '36728.00',\n",
       " '36732.00',\n",
       " '36754.00',\n",
       " '36846.00',\n",
       " '36867.00',\n",
       " '36886.00',\n",
       " '36905.00',\n",
       " '37021.00',\n",
       " '37024.00',\n",
       " '37073.00',\n",
       " '37141.00',\n",
       " '37172.00',\n",
       " '37210.00',\n",
       " '37211.00',\n",
       " '37296.00',\n",
       " '37440.00',\n",
       " '37511.00',\n",
       " '37553.00',\n",
       " '37565.00',\n",
       " '37583.00',\n",
       " '37603.00',\n",
       " '37677.00',\n",
       " '377.00',\n",
       " '37700.00',\n",
       " '37710.00',\n",
       " '37879.00',\n",
       " '37900.00',\n",
       " '37901.00',\n",
       " '37921.00',\n",
       " '37981.00',\n",
       " '38000.00',\n",
       " '38004.00',\n",
       " '38043.00',\n",
       " '38059.00',\n",
       " '38083.00',\n",
       " '38136.80',\n",
       " '38175.00',\n",
       " '38261.00',\n",
       " '38263.00',\n",
       " '38295.00',\n",
       " '38300.00',\n",
       " '38318.00',\n",
       " '38354.00',\n",
       " '38355.00',\n",
       " '38382.00',\n",
       " '38459.00',\n",
       " '38465.00',\n",
       " '38511.00',\n",
       " '38539.00',\n",
       " '38546.00',\n",
       " '38582.00',\n",
       " '38636.00',\n",
       " '38741.00',\n",
       " '38753.00',\n",
       " '38807.00',\n",
       " '38888.00',\n",
       " '38916.00',\n",
       " '38937.00',\n",
       " '38970.00',\n",
       " '38981.00',\n",
       " '39062.00',\n",
       " '39101.00',\n",
       " '39104.00',\n",
       " '39158.00',\n",
       " '39188.00',\n",
       " '39210.00',\n",
       " '39311.00',\n",
       " '39316.00',\n",
       " '39375.00',\n",
       " '39379.00',\n",
       " '39401.00',\n",
       " '39468.00',\n",
       " '39499.00',\n",
       " '39644.00',\n",
       " '39685.00',\n",
       " '39694.00',\n",
       " '39697.00',\n",
       " '39745.00',\n",
       " '39754.00',\n",
       " '39758.00',\n",
       " '39761.00',\n",
       " '39839.00',\n",
       " '39853.00',\n",
       " '39877.00',\n",
       " '39917.00',\n",
       " '39931.00',\n",
       " '39935.00',\n",
       " '39937.00',\n",
       " '39998.00',\n",
       " '40000.00',\n",
       " '40139.00',\n",
       " '40172.00',\n",
       " '40253.00',\n",
       " '40300.00',\n",
       " '40320.00',\n",
       " '40369.00',\n",
       " '40386.00',\n",
       " '40411.00',\n",
       " '40463.00',\n",
       " '40491.00',\n",
       " '4050.00',\n",
       " '40554.00',\n",
       " '40562.00',\n",
       " '40671.00',\n",
       " '40700.00',\n",
       " '40800.00',\n",
       " '40828.00',\n",
       " '40886.00',\n",
       " '40934.00',\n",
       " '41000.00',\n",
       " '41015.00',\n",
       " '41067.00',\n",
       " '41168.00',\n",
       " '41169.00',\n",
       " '41193.00',\n",
       " '41203.00',\n",
       " '41290.00',\n",
       " '41308.00',\n",
       " '41375.00',\n",
       " '41397.00',\n",
       " '41414.00',\n",
       " '41438.00',\n",
       " '41475.00',\n",
       " '41477.00',\n",
       " '41478.00',\n",
       " '41481.00',\n",
       " '41547.00',\n",
       " '41562.00',\n",
       " '41600.00',\n",
       " '41633.00',\n",
       " '41640.00',\n",
       " '41678.00',\n",
       " '41700.00',\n",
       " '41706.00',\n",
       " '41738.00',\n",
       " '41823.00',\n",
       " '41870.00',\n",
       " '41899.00',\n",
       " '41995.00',\n",
       " '42000.00',\n",
       " '42011.00',\n",
       " '42015.00',\n",
       " '42053.00',\n",
       " '42092.00',\n",
       " '42110.00',\n",
       " '42197.00',\n",
       " '42290.00',\n",
       " '42345.00',\n",
       " '42360.00',\n",
       " '42361.00',\n",
       " '42391.00',\n",
       " '42444.00',\n",
       " '42453.00',\n",
       " '42477.00',\n",
       " '42500.00',\n",
       " '42511.00',\n",
       " '42572.00',\n",
       " '42641.00',\n",
       " '42711.00',\n",
       " '42738.00',\n",
       " '42921.00',\n",
       " '43034.00',\n",
       " '43118.00',\n",
       " '43136.00',\n",
       " '43200.00',\n",
       " '43220.00',\n",
       " '43278.00',\n",
       " '43286.00',\n",
       " '43294.00',\n",
       " '43327.00',\n",
       " '43342.00',\n",
       " '43355.00',\n",
       " '43423.00',\n",
       " '43448.00',\n",
       " '43455.00',\n",
       " '43614.00',\n",
       " '43645.00',\n",
       " '43646.00',\n",
       " '43675.00',\n",
       " '43680.00',\n",
       " '43718.00',\n",
       " '43786.00',\n",
       " '43811.00',\n",
       " '43883.00',\n",
       " '43914.00',\n",
       " '43956.00',\n",
       " '43969.00',\n",
       " '43971.00',\n",
       " '44013.00',\n",
       " '44095.00',\n",
       " '44106.00',\n",
       " '44136.00',\n",
       " '44254.00',\n",
       " '44261.00',\n",
       " '44275.00',\n",
       " '44300.00',\n",
       " '44331.00',\n",
       " '44462.00',\n",
       " '44500.00',\n",
       " '44503.00',\n",
       " '44529.00',\n",
       " '44561.00',\n",
       " '44591.00',\n",
       " '44592.00',\n",
       " '44600.00',\n",
       " '44618.00',\n",
       " '44815.00',\n",
       " '44908.00',\n",
       " '44909.00',\n",
       " '44928.00',\n",
       " '44944.00',\n",
       " '44986.00',\n",
       " '44990.40',\n",
       " '45000.00',\n",
       " '45005.00',\n",
       " '45061.00',\n",
       " '45072.00',\n",
       " '45074.00',\n",
       " '45090.00',\n",
       " '45125.00',\n",
       " '45200.00',\n",
       " '45214.00',\n",
       " '45243.00',\n",
       " '45303.00',\n",
       " '45351.00',\n",
       " '45490.00',\n",
       " '45498.00',\n",
       " '45661.00',\n",
       " '45700.00',\n",
       " '45728.00',\n",
       " '45881.00',\n",
       " '45898.00',\n",
       " '45906.00',\n",
       " '45911.00',\n",
       " '45922.00',\n",
       " '45933.00',\n",
       " '45934.00',\n",
       " '45971.00',\n",
       " '45977.00',\n",
       " '45989.00',\n",
       " '46049.00',\n",
       " '4625.00',\n",
       " '46251.00',\n",
       " '46274.00',\n",
       " '46280.00',\n",
       " '46336.00',\n",
       " '46363.00',\n",
       " '46400.00',\n",
       " '46439.00',\n",
       " '46545.00',\n",
       " '46556.00',\n",
       " '46566.00',\n",
       " '46576.00',\n",
       " '46584.00',\n",
       " '46700.00',\n",
       " '46769.00',\n",
       " '46800.00',\n",
       " '46812.92',\n",
       " '46871.00',\n",
       " '46886.00',\n",
       " '46906.00',\n",
       " '46953.00',\n",
       " '46985.00',\n",
       " '46989.00',\n",
       " '46991.00',\n",
       " '47000.00',\n",
       " '47044.00',\n",
       " '47144.00',\n",
       " '47200.00',\n",
       " '47250.00',\n",
       " '47259.00',\n",
       " '47267.00',\n",
       " '47273.00',\n",
       " '47476.00',\n",
       " '47500.00',\n",
       " '47526.00',\n",
       " '47575.00',\n",
       " '47604.00',\n",
       " '47606.00',\n",
       " '47611.00',\n",
       " '47639.00',\n",
       " '47653.00',\n",
       " '47753.00',\n",
       " '47900.00',\n",
       " '47950.00',\n",
       " '47959.00',\n",
       " '47960.00',\n",
       " '47986.00',\n",
       " '48000.00',\n",
       " '48006.00',\n",
       " '48104.00',\n",
       " '48257.00',\n",
       " '48274.00',\n",
       " '48286.00',\n",
       " '48307.00',\n",
       " '48321.00',\n",
       " '48543.00',\n",
       " '48600.00',\n",
       " '48660.00',\n",
       " '48669.00',\n",
       " '48873.00',\n",
       " '48886.00',\n",
       " '48900.00',\n",
       " '48924.00',\n",
       " '48934.00',\n",
       " '49011.00',\n",
       " '49027.00',\n",
       " '49035.00',\n",
       " '49067.00',\n",
       " '49200.00',\n",
       " '49300.00',\n",
       " '49345.00',\n",
       " '49366.00',\n",
       " '49367.00',\n",
       " '49378.00',\n",
       " '49402.00',\n",
       " '49468.00',\n",
       " '49547.00',\n",
       " '49651.00',\n",
       " '49662.00',\n",
       " '49705.00',\n",
       " '49747.00',\n",
       " '49886.00',\n",
       " '49920.00',\n",
       " '50000.00',\n",
       " '50100.00',\n",
       " '50106.00',\n",
       " '50264.00',\n",
       " '50335.00',\n",
       " '50364.00',\n",
       " '50378.00',\n",
       " '50381.00',\n",
       " '50414.00',\n",
       " '50415.00',\n",
       " '50845.00',\n",
       " '50862.00',\n",
       " '50919.00',\n",
       " '50981.00',\n",
       " '51000.00',\n",
       " '51058.00',\n",
       " '51064.00',\n",
       " '51066.00',\n",
       " '51110.00',\n",
       " '51153.00',\n",
       " '51272.00',\n",
       " '51345.00',\n",
       " '51375.00',\n",
       " '51400.00',\n",
       " '51592.00',\n",
       " '51668.00',\n",
       " '51732.00',\n",
       " '51803.00',\n",
       " '51820.00',\n",
       " '51875.00',\n",
       " '52000.00',\n",
       " '52192.00',\n",
       " '52200.00',\n",
       " '52244.00',\n",
       " '52348.00',\n",
       " '52354.00',\n",
       " '52400.00',\n",
       " '52424.00',\n",
       " '52438.00',\n",
       " '52569.00',\n",
       " '52586.00',\n",
       " '52601.00',\n",
       " '52700.00',\n",
       " '52727.00',\n",
       " '52787.00',\n",
       " '52882.00',\n",
       " '53000.00',\n",
       " '53191.00',\n",
       " '53268.00',\n",
       " '53300.00',\n",
       " '53310.00',\n",
       " '53331.00',\n",
       " '53359.00',\n",
       " '53380.00',\n",
       " '53386.00',\n",
       " '53400.00',\n",
       " '53435.00',\n",
       " '53500.00',\n",
       " '53542.00',\n",
       " '53652.00',\n",
       " '53704.00',\n",
       " '53900.00',\n",
       " '54000.00',\n",
       " '54016.00',\n",
       " '54032.00',\n",
       " '54038.00',\n",
       " '54049.00',\n",
       " '54080.00',\n",
       " '54125.00',\n",
       " '54164.00',\n",
       " '54202.00',\n",
       " '54380.00',\n",
       " '54400.00',\n",
       " '54468.00',\n",
       " '54500.00',\n",
       " '54600.00',\n",
       " '54716.00',\n",
       " '54730.00',\n",
       " '54800.00',\n",
       " '54839.00',\n",
       " '54897.00',\n",
       " '54900.00',\n",
       " '54906.00',\n",
       " '54978.00',\n",
       " '55000.00',\n",
       " '55164.00',\n",
       " '55200.00',\n",
       " '55245.00',\n",
       " '55262.00',\n",
       " '55300.00',\n",
       " '55397.00',\n",
       " '55400.00',\n",
       " '55401.00',\n",
       " '55422.00',\n",
       " '55497.00',\n",
       " '55500.00',\n",
       " '55544.00',\n",
       " '55553.00',\n",
       " '55591.00',\n",
       " '55597.00',\n",
       " '55600.00',\n",
       " '55650.00',\n",
       " '55677.00',\n",
       " '55742.00',\n",
       " '55904.00',\n",
       " '56000.00',\n",
       " '56054.00',\n",
       " '56056.00',\n",
       " '56200.00',\n",
       " '56306.00',\n",
       " '56382.00',\n",
       " '56408.00',\n",
       " '56426.00',\n",
       " '56466.00',\n",
       " '56472.00',\n",
       " '56484.00',\n",
       " '56500.00',\n",
       " '56553.00',\n",
       " '56595.00',\n",
       " '56700.00',\n",
       " '56772.00',\n",
       " '56800.00',\n",
       " '57102.00',\n",
       " '57108.00',\n",
       " '57177.00',\n",
       " '57320.00',\n",
       " '57361.00',\n",
       " '57386.00',\n",
       " '57469.00',\n",
       " '57524.00',\n",
       " '57567.00',\n",
       " '57600.00',\n",
       " '57640.00',\n",
       " '57673.00',\n",
       " '57674.00',\n",
       " '57776.00',\n",
       " '57800.00',\n",
       " '57856.00',\n",
       " '57876.00',\n",
       " '57900.00',\n",
       " '57919.00',\n",
       " '58000.00',\n",
       " '58080.00',\n",
       " '58100.00',\n",
       " '58200.00',\n",
       " '58245.00',\n",
       " '58400.00',\n",
       " '58458.00',\n",
       " '58481.00',\n",
       " '58500.00',\n",
       " '58506.00',\n",
       " '58568.00',\n",
       " '58700.00',\n",
       " '58739.00',\n",
       " '58800.00',\n",
       " '58815.00',\n",
       " '58827.00',\n",
       " '58898.00',\n",
       " '58957.00',\n",
       " '59000.00',\n",
       " '59057.00',\n",
       " '59065.00',\n",
       " '59082.00',\n",
       " '59087.00',\n",
       " '59092.00',\n",
       " '59100.00',\n",
       " '59200.00',\n",
       " '59290.00',\n",
       " '59300.00',\n",
       " '59301.00',\n",
       " '59388.00',\n",
       " '59394.00',\n",
       " '59400.00',\n",
       " '59430.00',\n",
       " '59451.00',\n",
       " '59600.00',\n",
       " '59622.00',\n",
       " '59650.00',\n",
       " '59847.00',\n",
       " '59886.00',\n",
       " '59916.00',\n",
       " ...]"
      ]
     },
     "execution_count": 87,
     "metadata": {},
     "output_type": "execute_result"
    }
   ],
   "source": [
    "sorted(df1['AnnualSalary'].unique())"
   ]
  },
  {
   "cell_type": "code",
   "execution_count": null,
   "metadata": {
    "collapsed": false
   },
   "outputs": [
    {
     "data": {
      "text/plain": [
       "['10000.00',\n",
       " '100000.00',\n",
       " '100013.00',\n",
       " '100200.00',\n",
       " '100273.00',\n",
       " '100300.00',\n",
       " '100400.00',\n",
       " '100500.00',\n",
       " '100600.00',\n",
       " '100695.00',\n",
       " '100700.00',\n",
       " '100800.00',\n",
       " '100810.00',\n",
       " '10089.00',\n",
       " '101000.00',\n",
       " '101183.00',\n",
       " '101200.00',\n",
       " '101300.00',\n",
       " '101485.00',\n",
       " '101600.00',\n",
       " '101715.00',\n",
       " '101800.00',\n",
       " '101867.00',\n",
       " '101999.00',\n",
       " '102000.00',\n",
       " '102300.00',\n",
       " '102351.00',\n",
       " '10239.00',\n",
       " '102618.00',\n",
       " '102700.00',\n",
       " '102760.00',\n",
       " '102800.00',\n",
       " '102900.00',\n",
       " '102904.00',\n",
       " '103134.00',\n",
       " '103400.00',\n",
       " '103434.00',\n",
       " '103700.00',\n",
       " '103743.00',\n",
       " '103808.00',\n",
       " '103950.00',\n",
       " '104000.00',\n",
       " '104100.00',\n",
       " '104200.00',\n",
       " '104300.00',\n",
       " '104357.00',\n",
       " '104400.00',\n",
       " '104600.00',\n",
       " '104900.00',\n",
       " '105000.00',\n",
       " '105300.00',\n",
       " '10546.00',\n",
       " '105547.00',\n",
       " '105700.00',\n",
       " '106300.00',\n",
       " '106900.00',\n",
       " '107200.00',\n",
       " '107307.00',\n",
       " '107593.00',\n",
       " '107909.00',\n",
       " '108200.00',\n",
       " '108451.00',\n",
       " '108459.00',\n",
       " '108500.00',\n",
       " '10853.00',\n",
       " '108800.00',\n",
       " '109100.00',\n",
       " '109200.00',\n",
       " '109400.00',\n",
       " '109500.00',\n",
       " '109900.00',\n",
       " '109925.00',\n",
       " '11000.00',\n",
       " '110000.00',\n",
       " '110400.00',\n",
       " '110565.00',\n",
       " '110600.00',\n",
       " '110877.00',\n",
       " '110908.00',\n",
       " '110990.00',\n",
       " '111100.00',\n",
       " '111200.00',\n",
       " '111500.00',\n",
       " '11160.00',\n",
       " '111600.00',\n",
       " '111700.00',\n",
       " '112000.00',\n",
       " '112200.00',\n",
       " '112500.00',\n",
       " '112684.00',\n",
       " '112700.00',\n",
       " '112900.00',\n",
       " '113120.00',\n",
       " '113900.00',\n",
       " '114400.00',\n",
       " '114636.00',\n",
       " '11467.00',\n",
       " '114789.00',\n",
       " '115000.00',\n",
       " '115010.00',\n",
       " '115800.00',\n",
       " '115830.00',\n",
       " '116081.00',\n",
       " '116500.00',\n",
       " '116700.00',\n",
       " '116900.00',\n",
       " '11774.00',\n",
       " '117900.00',\n",
       " '118000.00',\n",
       " '118300.00',\n",
       " '11866.00',\n",
       " '118700.00',\n",
       " '118800.00',\n",
       " '119000.00',\n",
       " '119300.00',\n",
       " '119350.00',\n",
       " '119600.00',\n",
       " '120000.00',\n",
       " '120300.00',\n",
       " '120400.00',\n",
       " '120919.00',\n",
       " '121000.00',\n",
       " '121300.00',\n",
       " '12185.00',\n",
       " '122400.00',\n",
       " '122900.00',\n",
       " '123100.00',\n",
       " '123600.00',\n",
       " '124100.00',\n",
       " '124193.00',\n",
       " '124800.00',\n",
       " '125000.00',\n",
       " '125200.00',\n",
       " '126300.00',\n",
       " '126400.00',\n",
       " '127100.00',\n",
       " '127300.00',\n",
       " '127500.00',\n",
       " '127514.00',\n",
       " '127560.00',\n",
       " '127600.00',\n",
       " '129400.00',\n",
       " '129587.00',\n",
       " '129792.00',\n",
       " '130000.00',\n",
       " '130100.00',\n",
       " '130400.00',\n",
       " '131800.00',\n",
       " '132000.00',\n",
       " '132200.00',\n",
       " '132400.00',\n",
       " '132700.00',\n",
       " '133400.00',\n",
       " '134800.00',\n",
       " '135300.00',\n",
       " '135900.00',\n",
       " '136800.00',\n",
       " '137280.00',\n",
       " '137300.00',\n",
       " '138000.00',\n",
       " '140500.00',\n",
       " '143200.00',\n",
       " '145200.00',\n",
       " '145600.00',\n",
       " '145700.00',\n",
       " '146100.00',\n",
       " '146500.00',\n",
       " '147525.00',\n",
       " '151800.00',\n",
       " '151900.00',\n",
       " '154000.00',\n",
       " '155300.00',\n",
       " '158760.00',\n",
       " '159800.00',\n",
       " '160000.00',\n",
       " '164566.00',\n",
       " '16640.00',\n",
       " '166500.00',\n",
       " '167000.00',\n",
       " '16744.00',\n",
       " '167449.00',\n",
       " '16972.00',\n",
       " '17087.00',\n",
       " '17160.00',\n",
       " '171700.00',\n",
       " '17322.00',\n",
       " '176015.00',\n",
       " '17680.00',\n",
       " '178900.00',\n",
       " '1800.00',\n",
       " '18114.98',\n",
       " '18408.00',\n",
       " '18720.00',\n",
       " '187200.00',\n",
       " '18928.00',\n",
       " '19240.00',\n",
       " '192500.00',\n",
       " '19282.00',\n",
       " '19656.00',\n",
       " '19760.00',\n",
       " '19802.00',\n",
       " '200000.00',\n",
       " '20400.00',\n",
       " '20744.00',\n",
       " '20800.00',\n",
       " '20842.00',\n",
       " '211785.00',\n",
       " '21320.00',\n",
       " '21424.00',\n",
       " '21840.00',\n",
       " '22318.00',\n",
       " '22464.00',\n",
       " '22880.00',\n",
       " '22942.00',\n",
       " '23175.00',\n",
       " '23296.00',\n",
       " '23400.00',\n",
       " '23663.00',\n",
       " '238772.00',\n",
       " '23920.00',\n",
       " '24056.00',\n",
       " '24178.00',\n",
       " '24522.00',\n",
       " '24739.00',\n",
       " '2484.00',\n",
       " '24883.00',\n",
       " '24960.00',\n",
       " '25000.00',\n",
       " '25254.00',\n",
       " '25376.00',\n",
       " '25480.00',\n",
       " '25488.00',\n",
       " '25598.00',\n",
       " '25709.00',\n",
       " '25961.00',\n",
       " '26075.00',\n",
       " '26157.00',\n",
       " '26372.00',\n",
       " '26464.00',\n",
       " '26785.00',\n",
       " '26832.00',\n",
       " '26916.00',\n",
       " '26977.00',\n",
       " '27000.00',\n",
       " '27040.00',\n",
       " '27082.00',\n",
       " '27273.00',\n",
       " '27309.00',\n",
       " '27330.00',\n",
       " '27477.00',\n",
       " '27613.00',\n",
       " '27652.00',\n",
       " '27727.00',\n",
       " '27974.00',\n",
       " '28000.00',\n",
       " '28080.00',\n",
       " '28158.00',\n",
       " '28284.00',\n",
       " '28364.00',\n",
       " '28410.00',\n",
       " '28433.00',\n",
       " '28445.00',\n",
       " '28500.00',\n",
       " '28541.00',\n",
       " '28600.00',\n",
       " '28603.00',\n",
       " '28795.00',\n",
       " '28870.00',\n",
       " '28871.00',\n",
       " '29099.00',\n",
       " '29120.00',\n",
       " '29262.00',\n",
       " '29283.00',\n",
       " '29285.00',\n",
       " '29286.00',\n",
       " '29297.00',\n",
       " '29307.00',\n",
       " '29328.00',\n",
       " '29354.00',\n",
       " '29378.00',\n",
       " '29397.00',\n",
       " '29494.00',\n",
       " '29495.00',\n",
       " '29500.00',\n",
       " '29508.00',\n",
       " '29552.00',\n",
       " '29567.00',\n",
       " '29765.00',\n",
       " '29815.00',\n",
       " '29827.00',\n",
       " '29892.00',\n",
       " '29906.00',\n",
       " '29978.00',\n",
       " '29994.00',\n",
       " '29999.00',\n",
       " '30000.00',\n",
       " '30108.00',\n",
       " '30124.00',\n",
       " '30139.00',\n",
       " '30160.00',\n",
       " '30177.00',\n",
       " '30235.00',\n",
       " '30243.00',\n",
       " '30253.00',\n",
       " '30264.00',\n",
       " '30285.00',\n",
       " '30430.00',\n",
       " '30436.00',\n",
       " '30439.00',\n",
       " '30500.00',\n",
       " '30562.00',\n",
       " '30598.00',\n",
       " '30618.00',\n",
       " '30717.00',\n",
       " '30721.00',\n",
       " '30763.00',\n",
       " '30803.00',\n",
       " '30834.00',\n",
       " '30865.00',\n",
       " '30888.00',\n",
       " '30949.00',\n",
       " '30966.00',\n",
       " '30974.00',\n",
       " '31028.00',\n",
       " '31116.00',\n",
       " '31158.00',\n",
       " '31200.00',\n",
       " '31286.00',\n",
       " '31346.00',\n",
       " '31432.00',\n",
       " '31470.00',\n",
       " '31479.00',\n",
       " '31484.00',\n",
       " '31500.00',\n",
       " '31561.00',\n",
       " '31616.00',\n",
       " '31700.00',\n",
       " '31758.00',\n",
       " '31818.00',\n",
       " '31824.00',\n",
       " '31892.00',\n",
       " '31901.00',\n",
       " '31932.00',\n",
       " '31945.00',\n",
       " '31965.00',\n",
       " '31990.00',\n",
       " '32000.00',\n",
       " '32056.00',\n",
       " '32136.00',\n",
       " '32137.00',\n",
       " '32225.00',\n",
       " '32240.00',\n",
       " '32282.00',\n",
       " '32318.00',\n",
       " '32328.00',\n",
       " '32375.00',\n",
       " '32396.00',\n",
       " '32426.00',\n",
       " '32479.00',\n",
       " '32510.00',\n",
       " '32525.00',\n",
       " '32579.00',\n",
       " '32597.00',\n",
       " '32698.00',\n",
       " '32760.00',\n",
       " '32812.00',\n",
       " '32836.00',\n",
       " '32878.00',\n",
       " '32903.00',\n",
       " '32933.00',\n",
       " '32947.00',\n",
       " '32955.00',\n",
       " '32961.00',\n",
       " '33018.00',\n",
       " '33164.00',\n",
       " '33218.00',\n",
       " '33259.00',\n",
       " '33280.00',\n",
       " '33313.00',\n",
       " '33318.00',\n",
       " '33354.00',\n",
       " '33369.00',\n",
       " '33405.00',\n",
       " '33428.00',\n",
       " '33494.00',\n",
       " '33556.00',\n",
       " '33566.00',\n",
       " '33570.00',\n",
       " '33592.00',\n",
       " '33634.00',\n",
       " '33696.00',\n",
       " '33738.00',\n",
       " '33740.00',\n",
       " '33759.00',\n",
       " '33861.00',\n",
       " '33879.00',\n",
       " '33884.00',\n",
       " '33893.00',\n",
       " '33904.00',\n",
       " '33957.00',\n",
       " '33972.00',\n",
       " '33980.00',\n",
       " '33987.00',\n",
       " '34111.00',\n",
       " '34154.00',\n",
       " '34230.00',\n",
       " '34261.00',\n",
       " '34299.00',\n",
       " '34370.00',\n",
       " '34382.00',\n",
       " '34391.00',\n",
       " '34410.00',\n",
       " '34440.00',\n",
       " '34475.00',\n",
       " '34514.00',\n",
       " '34533.00',\n",
       " '34545.00',\n",
       " '34577.00',\n",
       " '34632.00',\n",
       " '34644.00',\n",
       " '34653.00',\n",
       " '34674.00',\n",
       " '34684.00',\n",
       " '34688.16',\n",
       " '34743.00',\n",
       " '34819.00',\n",
       " '34840.00',\n",
       " '34860.00',\n",
       " '34895.00',\n",
       " '34942.00',\n",
       " '34946.00',\n",
       " '34954.00',\n",
       " '34998.00',\n",
       " '35000.00',\n",
       " '35090.00',\n",
       " '35147.00',\n",
       " '35204.00',\n",
       " '35212.00',\n",
       " '35235.00',\n",
       " '35275.00',\n",
       " '35318.00',\n",
       " '35360.00',\n",
       " '35377.00',\n",
       " '35386.00',\n",
       " '35420.00',\n",
       " '35510.00',\n",
       " '35568.00',\n",
       " '35584.00',\n",
       " '35691.00',\n",
       " '35714.00',\n",
       " '35725.00',\n",
       " '35759.00',\n",
       " '35777.00',\n",
       " '35808.00',\n",
       " '35817.00',\n",
       " '35880.00',\n",
       " '35897.00',\n",
       " '35904.00',\n",
       " '35911.00',\n",
       " '35930.00',\n",
       " '35981.00',\n",
       " '36000.00',\n",
       " '36026.00',\n",
       " '36035.00',\n",
       " '36046.00',\n",
       " '36048.00',\n",
       " '36147.00',\n",
       " '36271.00',\n",
       " '36275.00',\n",
       " '36296.00',\n",
       " '36318.00',\n",
       " '36473.00',\n",
       " '36481.00',\n",
       " '36487.00',\n",
       " '36491.00',\n",
       " '36519.00',\n",
       " '36530.00',\n",
       " '36565.00',\n",
       " '36570.00',\n",
       " '36582.00',\n",
       " '36591.00',\n",
       " '36608.00',\n",
       " '36616.00',\n",
       " '36684.00',\n",
       " '36735.00',\n",
       " '36754.00',\n",
       " '36766.00',\n",
       " '36774.00',\n",
       " '36779.00',\n",
       " '36798.00',\n",
       " '36816.00',\n",
       " '36858.00',\n",
       " '36878.00',\n",
       " '36885.00',\n",
       " '36920.00',\n",
       " '36927.00',\n",
       " '37008.00',\n",
       " '37022.00',\n",
       " '37098.00',\n",
       " '37128.00',\n",
       " '37250.00',\n",
       " '37359.00',\n",
       " '37418.00',\n",
       " '37440.00',\n",
       " '37464.00',\n",
       " '37488.00',\n",
       " '37598.00',\n",
       " '37625.00',\n",
       " '37628.00',\n",
       " '37742.00',\n",
       " '37774.00',\n",
       " '37807.00',\n",
       " '37810.00',\n",
       " '37867.00',\n",
       " '37873.00',\n",
       " '37939.00',\n",
       " '37943.00',\n",
       " '37951.00',\n",
       " '37960.00',\n",
       " '38086.00',\n",
       " '38148.00',\n",
       " '38151.00',\n",
       " '38190.00',\n",
       " '38209.00',\n",
       " '38294.00',\n",
       " '38339.00',\n",
       " '38447.00',\n",
       " '38605.00',\n",
       " '38634.00',\n",
       " '38640.00',\n",
       " '38754.00',\n",
       " '38811.00',\n",
       " '38848.00',\n",
       " '38959.00',\n",
       " '38976.00',\n",
       " '38997.00',\n",
       " '39000.00',\n",
       " '39002.00',\n",
       " '39003.00',\n",
       " '39004.00',\n",
       " '39016.00',\n",
       " '39104.00',\n",
       " '39141.00',\n",
       " '39164.00',\n",
       " '39198.00',\n",
       " '39280.00',\n",
       " '39291.00',\n",
       " '39308.00',\n",
       " '39354.00',\n",
       " '39489.00',\n",
       " '39492.00',\n",
       " '39520.00',\n",
       " '39535.00',\n",
       " '39735.00',\n",
       " '39807.00',\n",
       " '39879.00',\n",
       " '39883.00',\n",
       " '39889.00',\n",
       " '39895.00',\n",
       " '39931.00',\n",
       " '39975.00',\n",
       " '39998.00',\n",
       " '40000.00',\n",
       " '40040.00',\n",
       " '40228.00',\n",
       " '40242.00',\n",
       " '40248.00',\n",
       " '40372.00',\n",
       " '40384.00',\n",
       " '40388.00',\n",
       " '40416.00',\n",
       " '4050.00',\n",
       " '40508.00',\n",
       " '40518.00',\n",
       " '40623.00',\n",
       " '40639.00',\n",
       " '40730.00',\n",
       " '40733.00',\n",
       " '40754.00',\n",
       " '40810.00',\n",
       " '40859.00',\n",
       " '40917.00',\n",
       " '40934.00',\n",
       " '40947.00',\n",
       " '40998.00',\n",
       " '41000.00',\n",
       " '41001.00',\n",
       " '41012.00',\n",
       " '41049.00',\n",
       " '41109.00',\n",
       " '41139.00',\n",
       " '41184.00',\n",
       " '41277.00',\n",
       " '41320.00',\n",
       " '41353.00',\n",
       " '41355.00',\n",
       " '41486.00',\n",
       " '41499.00',\n",
       " '41500.00',\n",
       " '41525.00',\n",
       " '41538.00',\n",
       " '41570.00',\n",
       " '41596.00',\n",
       " '41600.00',\n",
       " '41700.00',\n",
       " '41711.00',\n",
       " '41774.00',\n",
       " '41789.00',\n",
       " '41870.00',\n",
       " '42000.00',\n",
       " '42026.00',\n",
       " '42032.00',\n",
       " '42141.00',\n",
       " '42158.00',\n",
       " '42159.00',\n",
       " '42186.00',\n",
       " '42195.00',\n",
       " '42238.00',\n",
       " '42244.00',\n",
       " '42286.00',\n",
       " '42303.00',\n",
       " '42404.00',\n",
       " '42452.59',\n",
       " '42534.00',\n",
       " '42565.00',\n",
       " '42596.00',\n",
       " '42600.00',\n",
       " '42614.00',\n",
       " '42667.00',\n",
       " '42700.00',\n",
       " '42702.00',\n",
       " '42799.00',\n",
       " '42808.00',\n",
       " '42896.00',\n",
       " '42939.00',\n",
       " '42970.00',\n",
       " '43057.00',\n",
       " '43098.00',\n",
       " '43181.00',\n",
       " '43270.00',\n",
       " '43280.00',\n",
       " '43287.00',\n",
       " '43307.00',\n",
       " '43389.00',\n",
       " '43467.00',\n",
       " '43500.00',\n",
       " '43512.00',\n",
       " '43593.00',\n",
       " '43703.00',\n",
       " '43761.00',\n",
       " '43800.00',\n",
       " '43837.00',\n",
       " '43875.00',\n",
       " '43959.00',\n",
       " '44020.00',\n",
       " '44089.00',\n",
       " '44200.00',\n",
       " '44217.00',\n",
       " '44259.00',\n",
       " '44300.00',\n",
       " '44370.00',\n",
       " '44414.00',\n",
       " '44429.00',\n",
       " '44512.00',\n",
       " '44545.00',\n",
       " '44548.00',\n",
       " '44573.00',\n",
       " '44583.00',\n",
       " '44600.00',\n",
       " '44609.00',\n",
       " '44623.00',\n",
       " '44631.00',\n",
       " '44669.00',\n",
       " '44798.00',\n",
       " '44804.00',\n",
       " '44826.00',\n",
       " '44990.00',\n",
       " '45000.00',\n",
       " '45074.00',\n",
       " '45078.00',\n",
       " '45136.00',\n",
       " '45232.00',\n",
       " '45244.00',\n",
       " '45366.00',\n",
       " '45419.00',\n",
       " '45501.00',\n",
       " '45548.00',\n",
       " '45563.00',\n",
       " '45683.00',\n",
       " '45741.00',\n",
       " '4576.00',\n",
       " '45760.00',\n",
       " '45773.00',\n",
       " '45777.00',\n",
       " '45795.00',\n",
       " '45800.00',\n",
       " '45809.00',\n",
       " '45822.00',\n",
       " '45870.00',\n",
       " '45968.00',\n",
       " '46000.00',\n",
       " '46009.00',\n",
       " '46033.00',\n",
       " '46055.00',\n",
       " '46175.00',\n",
       " '46199.00',\n",
       " '46200.00',\n",
       " '46208.00',\n",
       " '4625.00',\n",
       " '46309.00',\n",
       " '46319.00',\n",
       " '46324.00',\n",
       " '46387.00',\n",
       " '46397.00',\n",
       " '46444.00',\n",
       " '46493.00',\n",
       " '46500.00',\n",
       " '46509.00',\n",
       " '46542.00',\n",
       " '46560.00',\n",
       " '46698.00',\n",
       " '46747.00',\n",
       " '46837.00',\n",
       " '46860.00',\n",
       " '46862.00',\n",
       " '46930.00',\n",
       " '47000.00',\n",
       " '47012.00',\n",
       " '47018.00',\n",
       " '47070.00',\n",
       " '47079.00',\n",
       " '47101.00',\n",
       " '47182.00',\n",
       " '47260.00',\n",
       " '47275.00',\n",
       " '47349.00',\n",
       " '47425.00',\n",
       " '47515.00',\n",
       " '47560.00',\n",
       " '47650.00',\n",
       " '47658.00',\n",
       " '47700.00',\n",
       " '47723.00',\n",
       " '47727.00',\n",
       " '47833.00',\n",
       " '47840.00',\n",
       " '47888.00',\n",
       " '47939.00',\n",
       " '47965.00',\n",
       " '47986.00',\n",
       " '48000.00',\n",
       " '48073.00',\n",
       " '48126.00',\n",
       " '48161.00',\n",
       " '48172.00',\n",
       " '48228.00',\n",
       " '48297.00',\n",
       " '48304.00',\n",
       " '48309.00',\n",
       " '48329.00',\n",
       " '48331.00',\n",
       " '48556.00',\n",
       " '48600.00',\n",
       " '48677.00',\n",
       " '48689.00',\n",
       " '48765.00',\n",
       " '48800.00',\n",
       " '48808.00',\n",
       " '48867.00',\n",
       " '48940.00',\n",
       " '49013.00',\n",
       " '49060.00',\n",
       " '49088.00',\n",
       " '49187.00',\n",
       " '49203.00',\n",
       " '49279.00',\n",
       " '49283.00',\n",
       " '49313.00',\n",
       " '49390.00',\n",
       " '49396.00',\n",
       " '49415.00',\n",
       " '49500.00',\n",
       " '49556.00',\n",
       " '49573.00',\n",
       " '49597.00',\n",
       " '49664.00',\n",
       " '49706.00',\n",
       " '49733.00',\n",
       " '49940.00',\n",
       " '49946.00',\n",
       " '49978.00',\n",
       " '49980.00',\n",
       " '50000.00',\n",
       " '50021.00',\n",
       " '50029.00',\n",
       " '50120.00',\n",
       " '50234.00',\n",
       " '50270.00',\n",
       " '50294.00',\n",
       " '50326.00',\n",
       " '50358.00',\n",
       " '50364.00',\n",
       " '50365.00',\n",
       " '50388.00',\n",
       " '50423.00',\n",
       " '50436.00',\n",
       " '50500.00',\n",
       " '50600.00',\n",
       " '50661.00',\n",
       " '50678.00',\n",
       " '50726.00',\n",
       " '50743.00',\n",
       " '50831.00',\n",
       " '50887.00',\n",
       " '50890.00',\n",
       " '50900.00',\n",
       " '50969.00',\n",
       " '51022.00',\n",
       " '51031.00',\n",
       " '51051.00',\n",
       " '51060.00',\n",
       " '51088.00',\n",
       " '51347.00',\n",
       " '51369.00',\n",
       " '51480.00',\n",
       " '51501.00',\n",
       " '51508.00',\n",
       " '51661.00',\n",
       " '51700.00',\n",
       " '51722.00',\n",
       " '51790.00',\n",
       " '51900.00',\n",
       " '51949.00',\n",
       " '52000.00',\n",
       " '52020.00',\n",
       " '52051.00',\n",
       " '52073.00',\n",
       " '52100.00',\n",
       " '52177.00',\n",
       " '52178.00',\n",
       " '52214.00',\n",
       " '52398.00',\n",
       " '52426.00',\n",
       " '52439.00',\n",
       " '52447.00',\n",
       " '52540.00',\n",
       " '52547.00',\n",
       " '52600.00',\n",
       " '52690.00',\n",
       " '52749.00',\n",
       " '52876.00',\n",
       " '52889.00',\n",
       " '52983.00',\n",
       " '53000.00',\n",
       " '53012.00',\n",
       " '53100.00',\n",
       " '53105.00',\n",
       " '53215.00',\n",
       " '53226.00',\n",
       " '53274.00',\n",
       " '53344.00',\n",
       " '53372.00',\n",
       " '53416.00',\n",
       " '53468.00',\n",
       " '53721.00',\n",
       " '53737.00',\n",
       " '53753.00',\n",
       " '53855.00',\n",
       " '53872.00',\n",
       " '53980.00',\n",
       " '53991.00',\n",
       " '54026.00',\n",
       " '54034.00',\n",
       " '54080.00',\n",
       " '54187.00',\n",
       " '54200.00',\n",
       " '54300.00',\n",
       " '54330.00',\n",
       " '54461.00',\n",
       " '54544.00',\n",
       " '54606.00',\n",
       " '54640.00',\n",
       " '54704.00',\n",
       " '54713.00',\n",
       " '54724.00',\n",
       " '54750.00',\n",
       " '54826.00',\n",
       " '54929.00',\n",
       " '54931.00',\n",
       " '54975.00',\n",
       " '55000.00',\n",
       " '55056.00',\n",
       " '5512.00',\n",
       " '55214.00',\n",
       " '55314.00',\n",
       " '55369.00',\n",
       " '55400.00',\n",
       " '55447.00',\n",
       " '55521.00',\n",
       " '55543.00',\n",
       " '55599.00',\n",
       " '55625.00',\n",
       " '55640.00',\n",
       " '55756.00',\n",
       " '55948.00',\n",
       " '56000.00',\n",
       " '56014.00',\n",
       " '56041.00',\n",
       " '56100.00',\n",
       " '56108.00',\n",
       " '56119.00',\n",
       " '56134.00',\n",
       " '56139.00',\n",
       " '56160.00',\n",
       " '56199.00',\n",
       " '56200.00',\n",
       " '56343.00',\n",
       " '56363.00',\n",
       " '56378.00',\n",
       " '56488.00',\n",
       " '56521.00',\n",
       " '56700.00',\n",
       " '56800.00',\n",
       " '56871.00',\n",
       " '56894.20',\n",
       " '56930.00',\n",
       " '56942.00',\n",
       " '56999.00',\n",
       " '57000.00',\n",
       " '57004.00',\n",
       " '57008.00',\n",
       " '57095.00',\n",
       " '57101.00',\n",
       " '57138.00',\n",
       " '57182.00',\n",
       " '57186.00',\n",
       " '57218.00',\n",
       " '57300.00',\n",
       " '57383.00',\n",
       " '57500.00',\n",
       " '57783.00',\n",
       " '57803.00',\n",
       " '57895.00',\n",
       " '57930.00',\n",
       " '57962.00',\n",
       " '58000.00',\n",
       " '58001.00',\n",
       " '58054.00',\n",
       " '58100.00',\n",
       " '58200.00',\n",
       " '58240.00',\n",
       " '58274.00',\n",
       " '58300.00',\n",
       " '58416.00',\n",
       " '58463.00',\n",
       " '58500.00',\n",
       " '58647.00',\n",
       " '58700.00',\n",
       " '58800.00',\n",
       " '58813.00',\n",
       " '58837.00',\n",
       " '58849.00',\n",
       " '58923.00',\n",
       " '59086.00',\n",
       " '59100.00',\n",
       " '59128.00',\n",
       " '59202.00',\n",
       " '59378.00',\n",
       " '59392.00',\n",
       " '59400.00',\n",
       " '59431.00',\n",
       " '59437.00',\n",
       " '59446.00',\n",
       " '59482.00',\n",
       " '59486.00',\n",
       " '59487.00',\n",
       " '59600.00',\n",
       " '59640.00',\n",
       " '59660.00',\n",
       " '59745.00',\n",
       " '59898.00',\n",
       " '59950.00',\n",
       " '60000.00',\n",
       " '60060.00',\n",
       " '60088.00',\n",
       " '60100.00',\n",
       " '60196.00',\n",
       " '60200.00',\n",
       " '60216.00',\n",
       " '60265.00',\n",
       " '60300.00',\n",
       " '60340.00',\n",
       " '60424.00',\n",
       " '60456.00',\n",
       " '60479.00',\n",
       " '60489.00',\n",
       " '60530.00',\n",
       " '60614.00',\n",
       " '60687.00',\n",
       " '60700.00',\n",
       " ...]"
      ]
     },
     "execution_count": 88,
     "metadata": {},
     "output_type": "execute_result"
    }
   ],
   "source": [
    "sorted(df5['AnnualSalary'].unique())"
   ]
  },
  {
   "cell_type": "code",
   "execution_count": null,
   "metadata": {
    "collapsed": false
   },
   "outputs": [
    {
     "data": {
      "text/plain": [
       "61228"
      ]
     },
     "execution_count": 89,
     "metadata": {},
     "output_type": "execute_result"
    }
   ],
   "source": [
    "len(result)"
   ]
  },
  {
   "cell_type": "code",
   "execution_count": null,
   "metadata": {
    "collapsed": true
   },
   "outputs": [],
   "source": [
    "result = result.dropna()"
   ]
  },
  {
   "cell_type": "code",
   "execution_count": null,
   "metadata": {
    "collapsed": false
   },
   "outputs": [
    {
     "data": {
      "text/plain": [
       "61228"
      ]
     },
     "execution_count": 91,
     "metadata": {},
     "output_type": "execute_result"
    }
   ],
   "source": [
    "len(result)"
   ]
  },
  {
   "cell_type": "code",
   "execution_count": null,
   "metadata": {
    "collapsed": false
   },
   "outputs": [
    {
     "data": {
      "text/html": [
       "<div>\n",
       "<table border=\"1\" class=\"dataframe\">\n",
       "  <thead>\n",
       "    <tr style=\"text-align: right;\">\n",
       "      <th></th>\n",
       "      <th>JobTitle</th>\n",
       "      <th>Agency</th>\n",
       "      <th>HireDate</th>\n",
       "      <th>AnnualSalary</th>\n",
       "      <th>Experience</th>\n",
       "    </tr>\n",
       "  </thead>\n",
       "  <tbody>\n",
       "    <tr>\n",
       "      <th>0</th>\n",
       "      <td>Facilities/Office Services II</td>\n",
       "      <td>OED-Employment Dev</td>\n",
       "      <td>1979</td>\n",
       "      <td>50845.00</td>\n",
       "      <td>32</td>\n",
       "    </tr>\n",
       "    <tr>\n",
       "      <th>1</th>\n",
       "      <td>ASSISTANT STATE'S ATTORNEY</td>\n",
       "      <td>States Attorneys Office</td>\n",
       "      <td>2006</td>\n",
       "      <td>56595.00</td>\n",
       "      <td>5</td>\n",
       "    </tr>\n",
       "    <tr>\n",
       "      <th>2</th>\n",
       "      <td>EPIDEMIOLOGIST</td>\n",
       "      <td>HLTH-Health Department</td>\n",
       "      <td>2009</td>\n",
       "      <td>56500.00</td>\n",
       "      <td>2</td>\n",
       "    </tr>\n",
       "    <tr>\n",
       "      <th>3</th>\n",
       "      <td>EMT Firefighter</td>\n",
       "      <td>Fire Academy Recruits</td>\n",
       "      <td>2011</td>\n",
       "      <td>33476.00</td>\n",
       "      <td>0</td>\n",
       "    </tr>\n",
       "    <tr>\n",
       "      <th>4</th>\n",
       "      <td>POLICE OFFICER</td>\n",
       "      <td>Police Department</td>\n",
       "      <td>2007</td>\n",
       "      <td>50919.00</td>\n",
       "      <td>4</td>\n",
       "    </tr>\n",
       "    <tr>\n",
       "      <th>5</th>\n",
       "      <td>LIQUOR BOARD INSPECTOR II</td>\n",
       "      <td>Liquor License Board</td>\n",
       "      <td>1995</td>\n",
       "      <td>43278.00</td>\n",
       "      <td>16</td>\n",
       "    </tr>\n",
       "    <tr>\n",
       "      <th>6</th>\n",
       "      <td>OFFICE ASST II</td>\n",
       "      <td>Enoch Pratt Free Library</td>\n",
       "      <td>2009</td>\n",
       "      <td>26388.00</td>\n",
       "      <td>2</td>\n",
       "    </tr>\n",
       "    <tr>\n",
       "      <th>7</th>\n",
       "      <td>SOCIAL SERVICES COORDINATOR</td>\n",
       "      <td>HLTH-Health Department</td>\n",
       "      <td>2008</td>\n",
       "      <td>38582.00</td>\n",
       "      <td>3</td>\n",
       "    </tr>\n",
       "    <tr>\n",
       "      <th>8</th>\n",
       "      <td>TYPIST III</td>\n",
       "      <td>Housing &amp; Community Dev</td>\n",
       "      <td>1986</td>\n",
       "      <td>34453.00</td>\n",
       "      <td>25</td>\n",
       "    </tr>\n",
       "    <tr>\n",
       "      <th>9</th>\n",
       "      <td>911 OPERATOR</td>\n",
       "      <td>Police Department</td>\n",
       "      <td>2004</td>\n",
       "      <td>37677.00</td>\n",
       "      <td>7</td>\n",
       "    </tr>\n",
       "  </tbody>\n",
       "</table>\n",
       "</div>"
      ],
      "text/plain": [
       "                        JobTitle                    Agency  HireDate  \\\n",
       "0  Facilities/Office Services II        OED-Employment Dev      1979   \n",
       "1     ASSISTANT STATE'S ATTORNEY   States Attorneys Office      2006   \n",
       "2                 EPIDEMIOLOGIST    HLTH-Health Department      2009   \n",
       "3                EMT Firefighter     Fire Academy Recruits      2011   \n",
       "4                 POLICE OFFICER         Police Department      2007   \n",
       "5      LIQUOR BOARD INSPECTOR II      Liquor License Board      1995   \n",
       "6                 OFFICE ASST II  Enoch Pratt Free Library      2009   \n",
       "7    SOCIAL SERVICES COORDINATOR    HLTH-Health Department      2008   \n",
       "8                     TYPIST III   Housing & Community Dev      1986   \n",
       "9                   911 OPERATOR         Police Department      2004   \n",
       "\n",
       "  AnnualSalary  Experience  \n",
       "0     50845.00          32  \n",
       "1     56595.00           5  \n",
       "2     56500.00           2  \n",
       "3     33476.00           0  \n",
       "4     50919.00           4  \n",
       "5     43278.00          16  \n",
       "6     26388.00           2  \n",
       "7     38582.00           3  \n",
       "8     34453.00          25  \n",
       "9     37677.00           7  "
      ]
     },
     "execution_count": 92,
     "metadata": {},
     "output_type": "execute_result"
    }
   ],
   "source": [
    "result.head(10)"
   ]
  },
  {
   "cell_type": "code",
   "execution_count": null,
   "metadata": {
    "collapsed": true
   },
   "outputs": [],
   "source": [
    "result1 = result.copy()"
   ]
  },
  {
   "cell_type": "code",
   "execution_count": null,
   "metadata": {
    "collapsed": true
   },
   "outputs": [],
   "source": []
  },
  {
   "cell_type": "code",
   "execution_count": null,
   "metadata": {
    "collapsed": false
   },
   "outputs": [
    {
     "data": {
      "text/plain": [
       "JobTitle        object\n",
       "Agency          object\n",
       "HireDate         int64\n",
       "AnnualSalary    object\n",
       "Experience       int64\n",
       "dtype: object"
      ]
     },
     "execution_count": 94,
     "metadata": {},
     "output_type": "execute_result"
    }
   ],
   "source": [
    "result1.dtypes"
   ]
  },
  {
   "cell_type": "code",
   "execution_count": null,
   "metadata": {
    "collapsed": false
   },
   "outputs": [],
   "source": [
    "result1.drop(['HireDate','JobTitle'],axis=1,inplace=True)"
   ]
  },
  {
   "cell_type": "code",
   "execution_count": null,
   "metadata": {
    "collapsed": false
   },
   "outputs": [
    {
     "data": {
      "text/plain": [
       "Agency          object\n",
       "AnnualSalary    object\n",
       "Experience       int64\n",
       "dtype: object"
      ]
     },
     "execution_count": 96,
     "metadata": {},
     "output_type": "execute_result"
    }
   ],
   "source": [
    "result1.dtypes"
   ]
  },
  {
   "cell_type": "code",
   "execution_count": null,
   "metadata": {
    "collapsed": false
   },
   "outputs": [],
   "source": [
    "#result1['JobTitle'].value_counts()"
   ]
  },
  {
   "cell_type": "code",
   "execution_count": null,
   "metadata": {
    "collapsed": false
   },
   "outputs": [
    {
     "data": {
      "text/plain": [
       "3509"
      ]
     },
     "execution_count": 98,
     "metadata": {},
     "output_type": "execute_result"
    }
   ],
   "source": [
    "#X = result1.copy()\n",
    "\n",
    "result1 = result1[result1['Agency'] == 'HLTH-Health Department']\n",
    "##X['JobTitle'] = X['JobTitle'].astype('category').cat.codes\n",
    "##X['Agency'] = X['Agency'].astype('category').cat.codes\n",
    "#X = pd.concat([pd.get_dummies(result1['Agency'], prefix = 'Agency_'), result1['Experience']], axis=1)\n",
    "X = pd.concat([result1['Agency'], result1['Experience']], axis=1)\n",
    "Y = result1['AnnualSalary']\n",
    "##X = pd.get_dummies(X['Agency'], prefix = 'Agency_')\n",
    "##X['Agency'] = X['Agency'].astype('category').cat.codes\n",
    "X.columns\n",
    "Y.head(1)\n",
    "len(X)\n",
    "#result1.columns"
   ]
  },
  {
   "cell_type": "code",
   "execution_count": null,
   "metadata": {
    "collapsed": true
   },
   "outputs": [],
   "source": [
    "result2 = result.copy()\n",
    "X = pd.concat([result2['Experience']], axis=1)\n",
    "Y = result2['AnnualSalary']"
   ]
  },
  {
   "cell_type": "code",
   "execution_count": null,
   "metadata": {
    "collapsed": false
   },
   "outputs": [],
   "source": [
    "result1.columns"
   ]
  },
  {
   "cell_type": "code",
   "execution_count": null,
   "metadata": {
    "collapsed": false
   },
   "outputs": [],
   "source": [
    "#X = pd.concat([X, pd.get_dummies(['District'], prefix = 'District')], axis=1)"
   ]
  },
  {
   "cell_type": "code",
   "execution_count": null,
   "metadata": {
    "collapsed": false
   },
   "outputs": [],
   "source": [
    "#X.drop(['AnnualSalary'],axis=1,inplace=True)"
   ]
  },
  {
   "cell_type": "code",
   "execution_count": null,
   "metadata": {
    "collapsed": false
   },
   "outputs": [],
   "source": [
    "X.columns"
   ]
  },
  {
   "cell_type": "code",
   "execution_count": null,
   "metadata": {
    "collapsed": false
   },
   "outputs": [],
   "source": [
    "X.dtypes"
   ]
  },
  {
   "cell_type": "code",
   "execution_count": null,
   "metadata": {
    "collapsed": true
   },
   "outputs": [],
   "source": [
    "#Y = result1['AnnualSalary']"
   ]
  },
  {
   "cell_type": "code",
   "execution_count": null,
   "metadata": {
    "collapsed": false
   },
   "outputs": [],
   "source": [
    "X.columns"
   ]
  },
  {
   "cell_type": "code",
   "execution_count": null,
   "metadata": {
    "collapsed": false
   },
   "outputs": [],
   "source": [
    "Y.head(2)"
   ]
  },
  {
   "cell_type": "code",
   "execution_count": null,
   "metadata": {
    "collapsed": false
   },
   "outputs": [],
   "source": [
    "len(X[X['Agency__HLTH-Health Department']==1])"
   ]
  },
  {
   "cell_type": "code",
   "execution_count": null,
   "metadata": {
    "collapsed": false
   },
   "outputs": [],
   "source": [
    "Y.dtypes\n",
    "#X_new = X[X['Agency__HLTH-Health Department']==1]\n",
    "X = X.sample(frac=1).reset_index(drop=True)\n",
    "\n",
    "X_new = X[:20000]\n",
    "Y_new = Y[:20000]\n",
    "len(X_new)\n",
    "#X_new = pd.concat([X_new['Experience']], axis=1)\n",
    "#X = pd.concat([pd.get_dummies(result1['Agency'], prefix = 'Agency_'), result1['Experience']], axis=1)\n",
    "X_new.columns"
   ]
  },
  {
   "cell_type": "code",
   "execution_count": null,
   "metadata": {
    "collapsed": false
   },
   "outputs": [],
   "source": [
    "from sklearn import preprocessing\n",
    "from sklearn import cross_validation\n",
    "from sklearn.linear_model import LogisticRegression\n",
    "model = LogisticRegression()\n",
    "model.fit(X_new, Y_new)\n",
    "model.score(X_new, Y_new)"
   ]
  },
  {
   "cell_type": "code",
   "execution_count": null,
   "metadata": {
    "collapsed": false
   },
   "outputs": [],
   "source": [
    "le = preprocessing.LabelEncoder()"
   ]
  },
  {
   "cell_type": "code",
   "execution_count": null,
   "metadata": {
    "collapsed": false
   },
   "outputs": [],
   "source": [
    "##dt = DecisionTreeClassifier()\n",
    "X_test = df5.copy()\n",
    "X_test['JobTitle'] = X_test['JobTitle'].astype('category').cat.codes\n",
    "X_test['Agency'] = X_test['Agency'].astype('category').cat.codes\n",
    "X_test['Agency'] = X_test['Agency'].astype('category').cat.codes\n",
    "X_test.drop(['AnnualSalary'],axis=1,inplace=True)\n",
    "Y_test = df5['AnnualSalary']"
   ]
  },
  {
   "cell_type": "code",
   "execution_count": null,
   "metadata": {
    "collapsed": false
   },
   "outputs": [],
   "source": [
    "X_test.head(2)"
   ]
  },
  {
   "cell_type": "code",
   "execution_count": null,
   "metadata": {
    "collapsed": false
   },
   "outputs": [],
   "source": [
    "##Y_test.drop(['JobTitle', 'Agency', 'Experience'],axis=1,inplace=True)\n",
    "##X_test.drop(['AnnualSalary'],axis=1,inplace=True)"
   ]
  },
  {
   "cell_type": "code",
   "execution_count": null,
   "metadata": {
    "collapsed": true
   },
   "outputs": [],
   "source": [
    "model = LogisticRegression(penalty='l2',C=1)"
   ]
  },
  {
   "cell_type": "code",
   "execution_count": null,
   "metadata": {
    "collapsed": false
   },
   "outputs": [],
   "source": []
  },
  {
   "cell_type": "code",
   "execution_count": null,
   "metadata": {
    "collapsed": false
   },
   "outputs": [],
   "source": [
    "model.fit(X,Y)"
   ]
  },
  {
   "cell_type": "code",
   "execution_count": null,
   "metadata": {
    "collapsed": true
   },
   "outputs": [],
   "source": [
    "print\"Logistic regression is %2.2f\" % accuracy_score(Y_test,model.predict(X_test))"
   ]
  },
  {
   "cell_type": "code",
   "execution_count": null,
   "metadata": {
    "collapsed": false
   },
   "outputs": [],
   "source": [
    "Y.head(2)"
   ]
  },
  {
   "cell_type": "code",
   "execution_count": null,
   "metadata": {
    "collapsed": false
   },
   "outputs": [],
   "source": [
    "X.head(2)"
   ]
  },
  {
   "cell_type": "code",
   "execution_count": null,
   "metadata": {
    "collapsed": true
   },
   "outputs": [],
   "source": [
    "Y.shape()"
   ]
  },
  {
   "cell_type": "code",
   "execution_count": null,
   "metadata": {
    "collapsed": true
   },
   "outputs": [],
   "source": []
  }
 ],
 "metadata": {
  "anaconda-cloud": {},
  "kernelspec": {
   "display_name": "Python [Root]",
   "language": "python",
   "name": "Python [Root]"
  },
  "language_info": {
   "codemirror_mode": {
    "name": "ipython",
    "version": 3
   },
   "file_extension": ".py",
   "mimetype": "text/x-python",
   "name": "python",
   "nbconvert_exporter": "python",
   "pygments_lexer": "ipython3",
   "version": "3.5.2"
  }
 },
 "nbformat": 4,
 "nbformat_minor": 0
}
